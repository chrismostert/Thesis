{
 "nbformat": 4,
 "nbformat_minor": 2,
 "metadata": {
  "language_info": {
   "name": "python",
   "codemirror_mode": {
    "name": "ipython",
    "version": 3
   },
   "version": "3.7.5"
  },
  "orig_nbformat": 2,
  "file_extension": ".py",
  "mimetype": "text/x-python",
  "name": "python",
  "npconvert_exporter": "python",
  "pygments_lexer": "ipython3",
  "version": 3
 },
 "cells": [
  {
   "cell_type": "code",
   "metadata": {},
   "outputs": [],
   "source": [
    "from pathlib import Path\n",
    "import re\n",
    "import requests\n",
    "import time\n",
    "import json\n",
    "import pandas as pd\n",
    "import matplotlib.pyplot as plt\n",
    "import seaborn as sns\n",
    "from pymongo import MongoClient\n",
    "\n",
    "client = MongoClient()\n",
    "acousticbrainz = client.thesis.acousticbrainz\n",
    "\n",
    "# Use seaborn style defaults and set the default figure size\n",
    "sns.set(rc={'figure.figsize':(10, 4)})\n",
    "\n",
    "mlhd_folder = Path(\"E:/Datasets/MLHD\")\n",
    "mlhd_demographics_folder = Path(\"E:/Datasets/MLHD_demographics\")\n",
    "\n",
    "# Regex to only select items from user files that have a MBID\n",
    "p = re.compile(r'(\\w+)\\x09(.*)\\x09(.*)\\x09(.+)')\n",
    "\n",
    "def find_features(id):\n",
    "    res = acousticbrainz.find_one({\"_id\": (id + \"-0\")})\n",
    "    if not res:\n",
    "        return None\n",
    "    return res"
   ]
  },
  {
   "cell_type": "code",
   "metadata": {},
   "outputs": [],
   "source": [
    "# Load in demographics\n",
    "csv_demographics = next(mlhd_demographics_folder.glob(\"**/MLHD_demographics.csv\"))\n",
    "demographics = pd.read_csv(csv_demographics, delimiter='\\t')\n",
    "demographics.head()"
   ]
  },
  {
   "cell_type": "code",
   "metadata": {},
   "outputs": [],
   "source": [
    "# Non concurrent loop\n",
    "\n",
    "users = mlhd_folder.iterdir()\n",
    "\n",
    "for user in users:\n",
    "\n",
    "    user_demographics = demographics.loc[demographics['uuid'] == user.stem]\n",
    "\n",
    "    data = {\n",
    "        \"Timestamp\": [],\n",
    "        \"Sad\": [],\n",
    "        \"Happy\": []\n",
    "    }\n",
    "\n",
    "    tuples = p.findall(user.read_text())\n",
    "\n",
    "    for t in tuples:\n",
    "        features = find_features(t[3])\n",
    "        if features and 'highlevel' in features.keys():\n",
    "            data['Timestamp'].append(t[0])\n",
    "            data['Sad'].append(features['highlevel']['mood_sad']['value'])\n",
    "            data['Happy'].append(features['highlevel']['mood_happy']['value'])\n",
    "\n",
    "    df = pd.DataFrame(data, columns=['Timestamp', 'Sad', 'Happy'])\n",
    "    df['Timestamp'] = pd.to_datetime(df['Timestamp'], unit='s')\n",
    "    df['Month'] = [d.strftime('%b') for d in df.Timestamp]\n",
    "    df['Year'] = [d.strftime('%Y') for d in df.Timestamp]\n",
    "    df = df.set_index('Timestamp').sort_index()\n",
    "\n",
    "    tograph = df.groupby('Month')['Sad'].value_counts(normalize=True).unstack().reindex(['Jan', 'Feb', 'Mar', 'Apr', 'May', 'Jun', 'Jul', 'Aug', 'Sep', 'Oct', 'Nov', 'Dec'])\n",
    "    tograph.plot(kind=\"bar\", stacked='True')\n",
    "    plt.ylabel(\"Percentage of listened music\")\n",
    "    try:\n",
    "        plt.title(\"UUID: {UUID}\\nCountry: {Country}\\nAge: {Age}\\nGender: {Gender}\".format(\n",
    "            UUID= user.stem,\n",
    "            Country = user_demographics.country.values[0],\n",
    "            Age = user_demographics.age.values[0],\n",
    "            Gender = user_demographics.gender.values[0]\n",
    "        ))\n",
    "    except:\n",
    "        plt.title(\"Data not available\")\n",
    "    plt.legend(['Not sad', 'Sad'], loc=3)\n",
    "    plt.savefig(user.stem + '.png', bbox_inches=\"tight\")\n",
    "    plt.show()"
   ]
  }
 ]
}