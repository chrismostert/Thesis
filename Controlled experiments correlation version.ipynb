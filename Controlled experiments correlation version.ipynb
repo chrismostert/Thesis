{
 "cells": [
  {
   "cell_type": "code",
   "execution_count": 1,
   "metadata": {},
   "outputs": [
    {
     "data": {
      "application/vnd.jupyter.widget-view+json": {
       "model_id": "a7efc49b167b49dbad0594c59239892d",
       "version_major": 2,
       "version_minor": 0
      },
      "text/plain": [
       "HBox(children=(FloatProgress(value=1.0, bar_style='info', max=1.0), HTML(value='')))"
      ]
     },
     "metadata": {},
     "output_type": "display_data"
    },
    {
     "name": "stderr",
     "output_type": "stream",
     "text": [
      "C:\\Users\\Chris\\Miniconda3\\envs\\thesis2\\lib\\site-packages\\tqdm\\std.py:668: FutureWarning: The Panel class is removed from pandas. Accessing it from the top-level namespace will also be removed in the next version\n",
      "  from pandas import Panel\n"
     ]
    },
    {
     "name": "stdout",
     "output_type": "stream",
     "text": [
      "\n"
     ]
    }
   ],
   "source": [
    "from pathlib import Path\n",
    "import pandas as pd\n",
    "import matplotlib.pyplot as plt\n",
    "import seaborn as sns\n",
    "import math\n",
    "import numpy as np\n",
    "# Use seaborn style defaults and set the default figure size\n",
    "sns.set(rc={'figure.figsize':(15, 15)})\n",
    "\n",
    "from tqdm.notebook import tqdm\n",
    "tqdm().pandas()\n",
    "\n",
    "from scipy.stats import ttest_rel\n",
    "\n",
    "acousticbrainz = pd.read_hdf(Path.cwd() / 'datasets' / 'acousticbrainzV3.h5')\n",
    "spotify = pd.read_hdf(Path.cwd() / 'datasets' / 'spotify.h5')\n",
    "mapping = pd.read_hdf(Path.cwd() / 'datasets' / 'mapping.h5')\n",
    "\n",
    "def findpairs(merged, versions):\n",
    "    # Resulting dataframes\n",
    "    res = {}\n",
    "    for version in versions:\n",
    "        res[version] = []\n",
    "        \n",
    "    # Must have at least two submissions\n",
    "    grouped = merged.groupby('mbid').filter(lambda x: len(x) > 1)\n",
    "    \n",
    "    for name, group in tqdm(grouped.groupby('mbid')):\n",
    "        for i in range(0, len(group)-1):\n",
    "            if group.iloc[i]['essentia_low'] in versions:\n",
    "                version_a = group.iloc[i]['essentia_low']\n",
    "                \n",
    "                for j in range(i+1, len(group)):\n",
    "                    if group.iloc[j]['essentia_low'] in versions:\n",
    "                        version_b = group.iloc[j]['essentia_low']\n",
    "                        \n",
    "                        # Pair found!\n",
    "                        if version_a != version_b:\n",
    "                            res[version_a].append(group.iloc[i])\n",
    "                            res[version_b].append(group.iloc[j])\n",
    "    \n",
    "    return res\n",
    "\n",
    "def significancetest(series_a, series_b, col_1, col_2):\n",
    "    assert(len(series_a) == len(series_b))\n",
    "    \n",
    "    a = []\n",
    "    b = []\n",
    "    \n",
    "    for i in range(0, len(series_a)):\n",
    "        a.append(abs(series_a[i][col_1] - series_a[i][col_2]))\n",
    "        b.append(abs(series_b[i][col_1] - series_b[i][col_2]))\n",
    "    \n",
    "    statistic, p = ttest_rel(a, b)\n",
    "    return (np.mean(a), np.mean(b), statistic, p)"
   ]
  },
  {
   "cell_type": "code",
   "execution_count": 2,
   "metadata": {},
   "outputs": [],
   "source": [
    "acousticbrainz['mbid'] = acousticbrainz.index.get_level_values(0)\n",
    "merged = acousticbrainz.merge(mapping, on='mbid').merge(spotify, left_on='spotify', right_on='id')"
   ]
  },
  {
   "cell_type": "code",
   "execution_count": 3,
   "metadata": {},
   "outputs": [
    {
     "data": {
      "application/vnd.jupyter.widget-view+json": {
       "model_id": "43aaf32d27e145fd808efe9c585d2c35",
       "version_major": 2,
       "version_minor": 0
      },
      "text/plain": [
       "HBox(children=(FloatProgress(value=0.0, max=50820.0), HTML(value='')))"
      ]
     },
     "metadata": {},
     "output_type": "display_data"
    },
    {
     "name": "stdout",
     "output_type": "stream",
     "text": [
      "\n"
     ]
    }
   ],
   "source": [
    "versions = findpairs(merged, ['2.1-beta1', '2.1-beta2'])\n",
    "n = len(versions['2.1-beta1'])"
   ]
  },
  {
   "cell_type": "code",
   "execution_count": 4,
   "metadata": {
    "scrolled": true
   },
   "outputs": [
    {
     "data": {
      "text/html": [
       "<div>\n",
       "<style scoped>\n",
       "    .dataframe tbody tr th:only-of-type {\n",
       "        vertical-align: middle;\n",
       "    }\n",
       "\n",
       "    .dataframe tbody tr th {\n",
       "        vertical-align: top;\n",
       "    }\n",
       "\n",
       "    .dataframe thead th {\n",
       "        text-align: right;\n",
       "    }\n",
       "</style>\n",
       "<table border=\"1\" class=\"dataframe\">\n",
       "  <thead>\n",
       "    <tr style=\"text-align: right;\">\n",
       "      <th></th>\n",
       "      <th>0</th>\n",
       "      <th>1</th>\n",
       "      <th>2</th>\n",
       "      <th>3</th>\n",
       "    </tr>\n",
       "  </thead>\n",
       "  <tbody>\n",
       "    <tr>\n",
       "      <th>(acousticness, (mood_acoustic, acoustic))</th>\n",
       "      <td>0.174532</td>\n",
       "      <td>0.148726</td>\n",
       "      <td>54.231864</td>\n",
       "      <td>0.0</td>\n",
       "    </tr>\n",
       "    <tr>\n",
       "      <th>(danceability, (danceability, danceable))</th>\n",
       "      <td>0.430322</td>\n",
       "      <td>0.311341</td>\n",
       "      <td>242.415456</td>\n",
       "      <td>0.0</td>\n",
       "    </tr>\n",
       "    <tr>\n",
       "      <th>(energy, (mood_relaxed, not_relaxed))</th>\n",
       "      <td>0.424959</td>\n",
       "      <td>0.259122</td>\n",
       "      <td>267.787354</td>\n",
       "      <td>0.0</td>\n",
       "    </tr>\n",
       "    <tr>\n",
       "      <th>(instrumentalness, (voice_instrumental, instrumental))</th>\n",
       "      <td>0.603558</td>\n",
       "      <td>0.302066</td>\n",
       "      <td>333.656219</td>\n",
       "      <td>0.0</td>\n",
       "    </tr>\n",
       "    <tr>\n",
       "      <th>(valence, (mood_happy, happy))</th>\n",
       "      <td>0.303454</td>\n",
       "      <td>0.265384</td>\n",
       "      <td>81.741517</td>\n",
       "      <td>0.0</td>\n",
       "    </tr>\n",
       "    <tr>\n",
       "      <th>(valence, (mood_sad, not_sad))</th>\n",
       "      <td>0.353758</td>\n",
       "      <td>0.310109</td>\n",
       "      <td>123.898038</td>\n",
       "      <td>0.0</td>\n",
       "    </tr>\n",
       "  </tbody>\n",
       "</table>\n",
       "</div>"
      ],
      "text/plain": [
       "                                                           0         1  \\\n",
       "(acousticness, (mood_acoustic, acoustic))           0.174532  0.148726   \n",
       "(danceability, (danceability, danceable))           0.430322  0.311341   \n",
       "(energy, (mood_relaxed, not_relaxed))               0.424959  0.259122   \n",
       "(instrumentalness, (voice_instrumental, instrum...  0.603558  0.302066   \n",
       "(valence, (mood_happy, happy))                      0.303454  0.265384   \n",
       "(valence, (mood_sad, not_sad))                      0.353758  0.310109   \n",
       "\n",
       "                                                             2    3  \n",
       "(acousticness, (mood_acoustic, acoustic))            54.231864  0.0  \n",
       "(danceability, (danceability, danceable))           242.415456  0.0  \n",
       "(energy, (mood_relaxed, not_relaxed))               267.787354  0.0  \n",
       "(instrumentalness, (voice_instrumental, instrum...  333.656219  0.0  \n",
       "(valence, (mood_happy, happy))                       81.741517  0.0  \n",
       "(valence, (mood_sad, not_sad))                      123.898038  0.0  "
      ]
     },
     "metadata": {},
     "output_type": "display_data"
    }
   ],
   "source": [
    "cols = [\n",
    "    ('acousticness', ('mood_acoustic', 'acoustic')),\n",
    "    ('danceability', ('danceability', 'danceable')),\n",
    "    ('energy', ('mood_relaxed', 'not_relaxed')),\n",
    "    ('instrumentalness', ('voice_instrumental', 'instrumental')),\n",
    "    ('valence', ('mood_happy', 'happy')),\n",
    "    ('valence', ('mood_sad', 'not_sad'))\n",
    "]\n",
    "\n",
    "res = pd.DataFrame()\n",
    "\n",
    "for col in cols:\n",
    "    ttest = significancetest(versions['2.1-beta1'], versions['2.1-beta2'], col[0], col[1])\n",
    "    res = res.append(pd.Series([ttest[0], ttest[1], ttest[2], ttest[3]], name=col))\n",
    "    \n",
    "display(res)"
   ]
  },
  {
   "cell_type": "code",
   "execution_count": 5,
   "metadata": {
    "scrolled": false
   },
   "outputs": [],
   "source": [
    "columns = pd.MultiIndex.from_tuples([('MAE', '2.1-beta1'), ('MAE', '2.1-beta2'), ('t',''), ('p','')])"
   ]
  },
  {
   "cell_type": "code",
   "execution_count": 6,
   "metadata": {},
   "outputs": [
    {
     "name": "stdout",
     "output_type": "stream",
     "text": [
      "n=229569\n"
     ]
    },
    {
     "data": {
      "text/html": [
       "<div>\n",
       "<style scoped>\n",
       "    .dataframe tbody tr th:only-of-type {\n",
       "        vertical-align: middle;\n",
       "    }\n",
       "\n",
       "    .dataframe tbody tr th {\n",
       "        vertical-align: top;\n",
       "    }\n",
       "\n",
       "    .dataframe thead tr th {\n",
       "        text-align: left;\n",
       "    }\n",
       "</style>\n",
       "<table border=\"1\" class=\"dataframe\">\n",
       "  <thead>\n",
       "    <tr>\n",
       "      <th></th>\n",
       "      <th colspan=\"2\" halign=\"left\">MAE</th>\n",
       "      <th>t</th>\n",
       "      <th>p</th>\n",
       "    </tr>\n",
       "    <tr>\n",
       "      <th></th>\n",
       "      <th>2.1-beta1</th>\n",
       "      <th>2.1-beta2</th>\n",
       "      <th></th>\n",
       "      <th></th>\n",
       "    </tr>\n",
       "  </thead>\n",
       "  <tbody>\n",
       "    <tr>\n",
       "      <th>(acousticness, (mood_acoustic, acoustic))</th>\n",
       "      <td>0.174532</td>\n",
       "      <td>0.148726</td>\n",
       "      <td>54.231864</td>\n",
       "      <td>0.0</td>\n",
       "    </tr>\n",
       "    <tr>\n",
       "      <th>(danceability, (danceability, danceable))</th>\n",
       "      <td>0.430322</td>\n",
       "      <td>0.311341</td>\n",
       "      <td>242.415456</td>\n",
       "      <td>0.0</td>\n",
       "    </tr>\n",
       "    <tr>\n",
       "      <th>(energy, (mood_relaxed, not_relaxed))</th>\n",
       "      <td>0.424959</td>\n",
       "      <td>0.259122</td>\n",
       "      <td>267.787354</td>\n",
       "      <td>0.0</td>\n",
       "    </tr>\n",
       "    <tr>\n",
       "      <th>(instrumentalness, (voice_instrumental, instrumental))</th>\n",
       "      <td>0.603558</td>\n",
       "      <td>0.302066</td>\n",
       "      <td>333.656219</td>\n",
       "      <td>0.0</td>\n",
       "    </tr>\n",
       "    <tr>\n",
       "      <th>(valence, (mood_happy, happy))</th>\n",
       "      <td>0.303454</td>\n",
       "      <td>0.265384</td>\n",
       "      <td>81.741517</td>\n",
       "      <td>0.0</td>\n",
       "    </tr>\n",
       "    <tr>\n",
       "      <th>(valence, (mood_sad, not_sad))</th>\n",
       "      <td>0.353758</td>\n",
       "      <td>0.310109</td>\n",
       "      <td>123.898038</td>\n",
       "      <td>0.0</td>\n",
       "    </tr>\n",
       "  </tbody>\n",
       "</table>\n",
       "</div>"
      ],
      "text/plain": [
       "                                                         MAE            \\\n",
       "                                                   2.1-beta1 2.1-beta2   \n",
       "(acousticness, (mood_acoustic, acoustic))           0.174532  0.148726   \n",
       "(danceability, (danceability, danceable))           0.430322  0.311341   \n",
       "(energy, (mood_relaxed, not_relaxed))               0.424959  0.259122   \n",
       "(instrumentalness, (voice_instrumental, instrum...  0.603558  0.302066   \n",
       "(valence, (mood_happy, happy))                      0.303454  0.265384   \n",
       "(valence, (mood_sad, not_sad))                      0.353758  0.310109   \n",
       "\n",
       "                                                             t    p  \n",
       "                                                                     \n",
       "(acousticness, (mood_acoustic, acoustic))            54.231864  0.0  \n",
       "(danceability, (danceability, danceable))           242.415456  0.0  \n",
       "(energy, (mood_relaxed, not_relaxed))               267.787354  0.0  \n",
       "(instrumentalness, (voice_instrumental, instrum...  333.656219  0.0  \n",
       "(valence, (mood_happy, happy))                       81.741517  0.0  \n",
       "(valence, (mood_sad, not_sad))                      123.898038  0.0  "
      ]
     },
     "execution_count": 6,
     "metadata": {},
     "output_type": "execute_result"
    }
   ],
   "source": [
    "res.columns = columns\n",
    "print(f\"n={n}\")\n",
    "res"
   ]
  },
  {
   "cell_type": "code",
   "execution_count": 8,
   "metadata": {},
   "outputs": [
    {
     "name": "stdout",
     "output_type": "stream",
     "text": [
      "\\begin{tabular}{lrrrr}\n",
      "\\toprule\n",
      "{} & \\multicolumn{2}{l}{MAE} &           t &    p \\\\\n",
      "{} & 2.1-beta1 & \\multicolumn{3}{l}{2.1-beta2} \\\\\n",
      "\\midrule\n",
      "(acousticness, (mood\\_acoustic, acoustic))          &  0.174532 &  0.148726 &   54.231864 &  0.0 \\\\\n",
      "(danceability, (danceability, danceable))          &  0.430322 &  0.311341 &  242.415456 &  0.0 \\\\\n",
      "(energy, (mood\\_relaxed, not\\_relaxed))              &  0.424959 &  0.259122 &  267.787354 &  0.0 \\\\\n",
      "(instrumentalness, (voice\\_instrumental, instrum... &  0.603558 &  0.302066 &  333.656219 &  0.0 \\\\\n",
      "(valence, (mood\\_happy, happy))                     &  0.303454 &  0.265384 &   81.741517 &  0.0 \\\\\n",
      "(valence, (mood\\_sad, not\\_sad))                     &  0.353758 &  0.310109 &  123.898038 &  0.0 \\\\\n",
      "\\bottomrule\n",
      "\\end{tabular}\n",
      "\n"
     ]
    }
   ],
   "source": [
    "print(res.to_latex())"
   ]
  }
 ],
 "metadata": {
  "kernelspec": {
   "display_name": "Python 3",
   "language": "python",
   "name": "python3"
  },
  "language_info": {
   "codemirror_mode": {
    "name": "ipython",
    "version": 3
   },
   "file_extension": ".py",
   "mimetype": "text/x-python",
   "name": "python",
   "nbconvert_exporter": "python",
   "pygments_lexer": "ipython3",
   "version": "3.7.4"
  }
 },
 "nbformat": 4,
 "nbformat_minor": 4
}
