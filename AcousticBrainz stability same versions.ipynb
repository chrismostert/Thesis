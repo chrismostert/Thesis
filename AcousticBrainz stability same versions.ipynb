{
 "cells": [
  {
   "cell_type": "markdown",
   "metadata": {},
   "source": [
    "# Analyzing the stability with the exact same software versions\n",
    "Since we've seen that the codec, bitrate and version all have an effect on the variance of the label probabilities produced by the high level classifiers, another question to answer is **If we make sure that version, bitrate and codec are all the same, will the variance be significantly lower?**. In theory this should be the case, since the (hopefully) same input, ran through the same version of software (by different people) should produce the same output."
   ]
  },
  {
   "cell_type": "code",
   "execution_count": 1,
   "metadata": {},
   "outputs": [
    {
     "data": {
      "application/vnd.jupyter.widget-view+json": {
       "model_id": "109da4c02ef94302b94e066029a85124",
       "version_major": 2,
       "version_minor": 0
      },
      "text/plain": [
       "HBox(children=(FloatProgress(value=1.0, bar_style='info', max=1.0), HTML(value='')))"
      ]
     },
     "metadata": {},
     "output_type": "display_data"
    },
    {
     "name": "stderr",
     "output_type": "stream",
     "text": [
      "C:\\Users\\Chris\\Miniconda3\\envs\\thesis\\lib\\site-packages\\tqdm\\std.py:658: FutureWarning: The Panel class is removed from pandas. Accessing it from the top-level namespace will also be removed in the next version\n",
      "  from pandas import Panel\n"
     ]
    },
    {
     "name": "stdout",
     "output_type": "stream",
     "text": [
      "\n"
     ]
    }
   ],
   "source": [
    "from pathlib import Path\n",
    "import pandas as pd\n",
    "import matplotlib.pyplot as plt\n",
    "import seaborn as sns\n",
    "import math\n",
    "import numpy as np\n",
    "# Use seaborn style defaults and set the default figure size\n",
    "sns.set(rc={'figure.figsize':(15, 15)})\n",
    "\n",
    "from tqdm.notebook import tqdm\n",
    "tqdm().pandas()\n",
    "\n",
    "# Pooled variance metric\n",
    "def get_variance(df):\n",
    "    variances = df.groupby(level=0).var()\n",
    "    samplesizes = df.groupby(level=0).size()\n",
    "    \n",
    "    a = variances.loc[variances.index.repeat(samplesizes)].reset_index(drop=True)\n",
    "    return a\n",
    "\n",
    "def filter_submissions(df):\n",
    "    filt = df.groupby(level=0).size() > 1\n",
    "    return df[filt[df.index.get_level_values(level=0)].values]\n",
    "\n",
    "# Classifier columns to study\n",
    "cols = [('danceability', 'danceable'), ('mood_acoustic', 'acoustic'), ('mood_aggressive', 'aggressive'),\n",
    "('mood_electronic', 'electronic'), ('mood_happy', 'happy'), ('mood_party', 'party'),\n",
    "('mood_relaxed', 'relaxed'), ('mood_sad', 'sad')]\n",
    "\n",
    "\n",
    "# Load in the acousticbrainz dataset into the variable 'acousticbrainz' (V3 also include build SHA to make sure that software\n",
    "# version is the same on a commit basis.\n",
    "acousticbrainz = pd.read_hdf(Path.cwd() / 'datasets' / 'acousticbrainzV3.h5')"
   ]
  },
  {
   "cell_type": "code",
   "execution_count": 2,
   "metadata": {},
   "outputs": [
    {
     "name": "stdout",
     "output_type": "stream",
     "text": [
      "2.1-beta1    1805912\n",
      "Name: essentia_high, dtype: int64\n",
      "\n",
      "8e24b98b71ad84f3024c7541412f02124a26d327    1805912\n",
      "Name: essentia_build_sha_high, dtype: int64\n",
      "\n",
      "v2.1_beta1-228-g260734a    1805912\n",
      "Name: essentia_git_sha_high, dtype: int64\n",
      "\n",
      "music 1.0    1805912\n",
      "Name: extractor_high, dtype: int64\n",
      "\n",
      "2.4-dev    1805912\n",
      "Name: gaia_high, dtype: int64\n",
      "\n",
      "857329b    1805912\n",
      "Name: gaia_git_sha_high, dtype: int64\n",
      "\n",
      "v2.1_beta1    1805912\n",
      "Name: models_essentia_git_sha_high, dtype: int64\n",
      "\n",
      "\n",
      "2.1-beta2    1142046\n",
      "2.1-beta1     663866\n",
      "Name: essentia_low, dtype: int64\n",
      "\n",
      "2d9f1f26377add8aeb1075a9c2973f962c4f09fd    641078\n",
      "70f2e5ece6736b2c40cc944ad0e695b16b925413    395517\n",
      "ca57ba49d9b1854bd80e60cf9ccf267278fb7d6b    306436\n",
      "cead25079874084f62182a551b7393616cd33d87     52312\n",
      "5c9e65ec81695c916afb4cba055c226bfc528ee6     37573\n",
      "                                             ...  \n",
      "924510f2ea76e9ef6963d5c4a81c7f703c5a8550         3\n",
      "52f73f7035b780910f2a0c20338a8d66a5befff1         2\n",
      "317951e178f96928cbba401c6928c6ff93cb13a4         1\n",
      "1dde24aa4a80df0688143f22dd7e4032606605fc         1\n",
      "e701a31cb90e26b4850a9509902d1c1cf2166013         1\n",
      "Name: essentia_build_sha_low, Length: 85, dtype: int64\n",
      "\n",
      "v2.1_beta2-1-ge3940c0            693390\n",
      "v2.1_beta2                       408097\n",
      "v2.1_beta1-28-g21ef5f4-dirty     329656\n",
      "v2.1_beta1-6-g5578087             81387\n",
      "v2.1_beta1-28-g21ef5f4            74869\n",
      "v2.1_beta1-34-gf95df8b            58565\n",
      "v2.1_beta1-7-ge0e83e8-dirty       56625\n",
      "v2.1_beta2-2-gbb40004             36729\n",
      "v2.1_beta1-5-gf9dded9             18281\n",
      "v2.1_beta1-7-ge0e83e8             15674\n",
      "v2.1_beta1-8-g0ed32f5-dirty        8532\n",
      "v2.1_beta1-6-g5578087-dirty        4860\n",
      "v2.1_beta1-217-g9cf4dbf-dirty      4701\n",
      "v2.1_beta1-13-g0c62dac-dirty       4394\n",
      "v2.1_beta2-15-g8ccb801             2355\n",
      "v2.1_beta1-16-g023b2af             1690\n",
      "v2.1_beta1-19-g7eb2c36             1664\n",
      "v2.1_beta1-26-g48277d2             1533\n",
      "v2.1_beta2-3-gd5e3a6e              1210\n",
      "v2.1_beta1-219-gaf871ae             295\n",
      "v2.1_beta1-16-gb6b8370              243\n",
      "v2.1_beta1-3-gbee56e8               198\n",
      "v2.1_beta1-221-g36335e2             176\n",
      "v2.1_beta1-16-gcc947d7              158\n",
      "v2.1_beta2-6-gd3e4459               138\n",
      "v2.1_beta2-12-g91c6a07              127\n",
      "v2.1_beta1-9-geaa627a               117\n",
      "v2.1_beta1-236-gcbdf52b              88\n",
      "v2.1_beta1-217-g9cf4dbf              59\n",
      "v2.1_beta1-231-g12f7441              46\n",
      "v2.1_beta1-13-g0c62dac               17\n",
      "v2.1_beta1-9-geaa627a-dirty          12\n",
      "v2.1_beta1-12-g8dbe7d3                9\n",
      "v2.1_beta1-34-gf95df8b-dirty          8\n",
      "v2.1_beta1-216-ge1b29eb               3\n",
      "v2.1_beta1-236-g7c1c590               3\n",
      "v2.1_beta1-33-g250f0fc-dirty          3\n",
      "Name: essentia_git_sha_low, dtype: int64\n",
      "\n",
      "music 1.0    1805912\n",
      "Name: extractor_low, dtype: int64\n",
      "\n"
     ]
    }
   ],
   "source": [
    "metaFeatureNames = [\n",
    "    \"analysis_sample_rate\",\n",
    "    \"bit_rate\",\n",
    "    \"codec\",\n",
    "    \"downmix\",\n",
    "    \"equal_loudness\",\n",
    "    \"length\",\n",
    "    \"lossless\",\n",
    "    \"replay_gain\"\n",
    "]\n",
    "\n",
    "highVersionFeatures = [\n",
    "    \"essentia\",\n",
    "    \"essentia_build_sha\",\n",
    "    \"essentia_git_sha\",\n",
    "    \"extractor\",\n",
    "    \"gaia\",\n",
    "    \"gaia_git_sha\",\n",
    "    \"models_essentia_git_sha\"\n",
    "]\n",
    "\n",
    "lowVersionFeatures = [\n",
    "    \"essentia\",\n",
    "    \"essentia_build_sha\",\n",
    "    \"essentia_git_sha\",\n",
    "    \"extractor\"\n",
    "]\n",
    "\n",
    "for feat in highVersionFeatures:\n",
    "    print(acousticbrainz[feat + '_high'].value_counts())\n",
    "    print()\n",
    "    \n",
    "\n",
    "print()\n",
    "\n",
    "for feat in lowVersionFeatures:\n",
    "    print(acousticbrainz[feat + '_low'].value_counts())\n",
    "    print()"
   ]
  },
  {
   "cell_type": "code",
   "execution_count": 3,
   "metadata": {
    "scrolled": true
   },
   "outputs": [
    {
     "data": {
      "text/plain": [
       "v2.1_beta2-1-ge3940c0     693390\n",
       "v2.1_beta2                408097\n",
       "v2.1_beta2-2-gbb40004      36729\n",
       "v2.1_beta2-15-g8ccb801      2355\n",
       "v2.1_beta2-3-gd5e3a6e       1210\n",
       "v2.1_beta2-6-gd3e4459        138\n",
       "v2.1_beta2-12-g91c6a07       127\n",
       "Name: essentia_git_sha_low, dtype: int64"
      ]
     },
     "execution_count": 3,
     "metadata": {},
     "output_type": "execute_result"
    }
   ],
   "source": [
    "acousticbrainz[acousticbrainz['essentia_low'] == '2.1-beta2']['essentia_git_sha_low'].value_counts()"
   ]
  },
  {
   "cell_type": "code",
   "execution_count": 4,
   "metadata": {},
   "outputs": [
    {
     "data": {
      "text/plain": [
       "2d9f1f26377add8aeb1075a9c2973f962c4f09fd    641078\n",
       "cead25079874084f62182a551b7393616cd33d87     52312\n",
       "Name: essentia_build_sha_low, dtype: int64"
      ]
     },
     "execution_count": 4,
     "metadata": {},
     "output_type": "execute_result"
    }
   ],
   "source": [
    "acousticbrainz[acousticbrainz['essentia_git_sha_low'] == 'v2.1_beta2-1-ge3940c0']['essentia_build_sha_low'].value_counts()"
   ]
  },
  {
   "cell_type": "code",
   "execution_count": 5,
   "metadata": {},
   "outputs": [
    {
     "data": {
      "text/plain": [
       "v2.1_beta2-1-ge3940c0    641078\n",
       "Name: essentia_git_sha_low, dtype: int64"
      ]
     },
     "execution_count": 5,
     "metadata": {},
     "output_type": "execute_result"
    }
   ],
   "source": [
    "acousticbrainz[acousticbrainz['essentia_build_sha_low'] == '2d9f1f26377add8aeb1075a9c2973f962c4f09fd']['essentia_git_sha_low'].value_counts()"
   ]
  },
  {
   "cell_type": "markdown",
   "metadata": {},
   "source": [
    "So there seem to be mulitple essentia git and essentia build SHAs for the same Essentia version, now we make subsets where all these fields are the same"
   ]
  },
  {
   "cell_type": "code",
   "execution_count": 6,
   "metadata": {},
   "outputs": [
    {
     "data": {
      "application/vnd.jupyter.widget-view+json": {
       "model_id": "9c23df1c9f6d47cd8cda5e8eaf5b86ea",
       "version_major": 2,
       "version_minor": 0
      },
      "text/plain": [
       "HBox(children=(FloatProgress(value=0.0, max=304962.0), HTML(value='')))"
      ]
     },
     "metadata": {},
     "output_type": "display_data"
    },
    {
     "name": "stdout",
     "output_type": "stream",
     "text": [
      "\n"
     ]
    },
    {
     "data": {
      "application/vnd.jupyter.widget-view+json": {
       "model_id": "478cf379c36240fe99d07acaa4be0021",
       "version_major": 2,
       "version_minor": 0
      },
      "text/plain": [
       "HBox(children=(FloatProgress(value=0.0, max=101615.0), HTML(value='')))"
      ]
     },
     "metadata": {},
     "output_type": "display_data"
    },
    {
     "name": "stdout",
     "output_type": "stream",
     "text": [
      "\n"
     ]
    }
   ],
   "source": [
    "grouped = acousticbrainz.groupby(['essentia_low', 'essentia_git_sha_low', 'essentia_build_sha_low', 'bit_rate', 'codec'])\n",
    "grouped = grouped.progress_apply(filter_submissions)\n",
    "variances = grouped[cols].groupby(level=[0,1,2,3,4,5]).progress_apply(get_variance)\n",
    "counts = pd.DataFrame(variances.groupby(level=[0,1,2,3,4]).size(), columns=['count']).sort_values(by='count', ascending=False)\n",
    "pooledvariances = variances.groupby(level=[0,1,2,3,4]).mean()"
   ]
  },
  {
   "cell_type": "code",
   "execution_count": 7,
   "metadata": {},
   "outputs": [
    {
     "name": "stdout",
     "output_type": "stream",
     "text": [
      "\\begin{tabular}{lrrrrrrrr}\n",
      "\\toprule\n",
      "{} &  (danceability, danceable) &  (mood\\_acoustic, acoustic) &  (mood\\_aggressive, aggressive) &  (mood\\_electronic, electronic) &  (mood\\_happy, happy) &  (mood\\_party, party) &  (mood\\_relaxed, relaxed) &  (mood\\_sad, sad) \\\\\n",
      "\\midrule\n",
      "count &                  22.000000 &                  22.000000 &                      22.000000 &                      22.000000 &            22.000000 &            22.000000 &                22.000000 &        22.000000 \\\\\n",
      "mean  &                   0.007435 &                   0.002758 &                       0.005524 &                       0.003488 &             0.005321 &             0.004239 &                 0.004471 &         0.000859 \\\\\n",
      "std   &                   0.006176 &                   0.002186 &                       0.006631 &                       0.003380 &             0.003634 &             0.004734 &                 0.004128 &         0.000438 \\\\\n",
      "min   &                   0.000019 &                   0.000002 &                       0.000016 &                       0.000191 &             0.000317 &             0.000124 &                 0.000029 &         0.000031 \\\\\n",
      "25\\%   &                   0.003979 &                   0.001611 &                       0.001969 &                       0.000850 &             0.002117 &             0.000399 &                 0.000714 &         0.000539 \\\\\n",
      "50\\%   &                   0.006660 &                   0.002521 &                       0.003750 &                       0.002856 &             0.004801 &             0.002684 &                 0.003683 &         0.000952 \\\\\n",
      "75\\%   &                   0.009612 &                   0.003199 &                       0.006411 &                       0.003893 &             0.007142 &             0.006890 &                 0.006970 &         0.001142 \\\\\n",
      "max   &                   0.027992 &                   0.010810 &                       0.030432 &                       0.014357 &             0.012597 &             0.017684 &                 0.014066 &         0.001773 \\\\\n",
      "\\bottomrule\n",
      "\\end{tabular}\n",
      "\n"
     ]
    }
   ],
   "source": [
    "tocheck = counts[counts['count'] >= 1000].index\n",
    "print(pooledvariances.loc[tocheck].describe().to_latex())"
   ]
  },
  {
   "cell_type": "code",
   "execution_count": 20,
   "metadata": {},
   "outputs": [
    {
     "data": {
      "text/plain": [
       "Index([    ('danceability', 'danceable'),     ('mood_acoustic', 'acoustic'),\n",
       "       ('mood_aggressive', 'aggressive'), ('mood_electronic', 'electronic'),\n",
       "                 ('mood_happy', 'happy'),           ('mood_party', 'party'),\n",
       "             ('mood_relaxed', 'relaxed'),               ('mood_sad', 'sad')],\n",
       "      dtype='object')"
      ]
     },
     "metadata": {},
     "output_type": "display_data"
    },
    {
     "data": {
      "text/plain": [
       "array([('2.1-beta1', 'v2.1_beta1-6-g5578087', '5a55991247aa8bc5301991e5ebe36927b56abb96', 0, 'flac'),\n",
       "       ('2.1-beta1', 'v2.1_beta1-6-g5578087', '5a55991247aa8bc5301991e5ebe36927b56abb96', 0, 'flac'),\n",
       "       ('2.1-beta1', 'v2.1_beta1-6-g5578087', '5a55991247aa8bc5301991e5ebe36927b56abb96', 0, 'flac'),\n",
       "       ('2.1-beta1', 'v2.1_beta1-6-g5578087', '5a55991247aa8bc5301991e5ebe36927b56abb96', 0, 'flac'),\n",
       "       ('2.1-beta1', 'v2.1_beta1-28-g21ef5f4-dirty', 'ca57ba49d9b1854bd80e60cf9ccf267278fb7d6b', 128000, 'mp3'),\n",
       "       ('2.1-beta2', 'v2.1_beta2', '70f2e5ece6736b2c40cc944ad0e695b16b925413', 128000, 'mp3'),\n",
       "       ('2.1-beta2', 'v2.1_beta2', '70f2e5ece6736b2c40cc944ad0e695b16b925413', 128000, 'mp3'),\n",
       "       ('2.1-beta1', 'v2.1_beta1-28-g21ef5f4-dirty', 'ca57ba49d9b1854bd80e60cf9ccf267278fb7d6b', 128000, 'mp3')],\n",
       "      dtype=object)"
      ]
     },
     "metadata": {},
     "output_type": "display_data"
    }
   ],
   "source": [
    "display(pooledvariances.loc[tocheck].idxmax().index)\n",
    "display(pooledvariances.loc[tocheck].idxmax().values)"
   ]
  },
  {
   "cell_type": "code",
   "execution_count": 7,
   "metadata": {
    "scrolled": false
   },
   "outputs": [
    {
     "data": {
      "image/png": "[encoded data removed]",
      "text/plain": [
       "<Figure size 1080x1080 with 1 Axes>"
      ]
     },
     "metadata": {},
     "output_type": "display_data"
    },
    {
     "ename": "KeyboardInterrupt",
     "evalue": "",
     "output_type": "error",
     "traceback": [
      "\u001b[1;31m---------------------------------------------------------------------------\u001b[0m",
      "\u001b[1;31mKeyboardInterrupt\u001b[0m                         Traceback (most recent call last)",
      "\u001b[1;32m<ipython-input-7-270c740aaf58>\u001b[0m in \u001b[0;36m<module>\u001b[1;34m\u001b[0m\n\u001b[0;32m     29\u001b[0m \u001b[1;33m\u001b[0m\u001b[0m\n\u001b[0;32m     30\u001b[0m \u001b[0mplt\u001b[0m\u001b[1;33m.\u001b[0m\u001b[0mfigure\u001b[0m\u001b[1;33m(\u001b[0m\u001b[1;33m)\u001b[0m\u001b[1;33m\u001b[0m\u001b[1;33m\u001b[0m\u001b[0m\n\u001b[1;32m---> 31\u001b[1;33m \u001b[0max\u001b[0m \u001b[1;33m=\u001b[0m \u001b[0msns\u001b[0m\u001b[1;33m.\u001b[0m\u001b[0mbarplot\u001b[0m\u001b[1;33m(\u001b[0m\u001b[0mdata\u001b[0m\u001b[1;33m=\u001b[0m\u001b[0mtoplot_sampled\u001b[0m\u001b[1;33m,\u001b[0m \u001b[0mx\u001b[0m\u001b[1;33m=\u001b[0m\u001b[1;34m'variable'\u001b[0m\u001b[1;33m,\u001b[0m \u001b[0my\u001b[0m\u001b[1;33m=\u001b[0m\u001b[1;34m'value'\u001b[0m\u001b[1;33m,\u001b[0m \u001b[0mhue\u001b[0m\u001b[1;33m=\u001b[0m\u001b[1;34m'version'\u001b[0m\u001b[1;33m,\u001b[0m \u001b[0merrwidth\u001b[0m\u001b[1;33m=\u001b[0m\u001b[1;36m1\u001b[0m\u001b[1;33m,\u001b[0m \u001b[0mcapsize\u001b[0m\u001b[1;33m=\u001b[0m\u001b[1;36m.1\u001b[0m\u001b[1;33m)\u001b[0m\u001b[1;33m\u001b[0m\u001b[1;33m\u001b[0m\u001b[0m\n\u001b[0m\u001b[0;32m     32\u001b[0m \u001b[0max\u001b[0m\u001b[1;33m.\u001b[0m\u001b[0mset_xticklabels\u001b[0m\u001b[1;33m(\u001b[0m\u001b[0max\u001b[0m\u001b[1;33m.\u001b[0m\u001b[0mget_xticklabels\u001b[0m\u001b[1;33m(\u001b[0m\u001b[1;33m)\u001b[0m\u001b[1;33m,\u001b[0m \u001b[0mrotation\u001b[0m\u001b[1;33m=\u001b[0m\u001b[1;36m45\u001b[0m\u001b[1;33m,\u001b[0m \u001b[0mhorizontalalignment\u001b[0m\u001b[1;33m=\u001b[0m\u001b[1;34m'right'\u001b[0m\u001b[1;33m)\u001b[0m\u001b[1;33m\u001b[0m\u001b[1;33m\u001b[0m\u001b[0m\n\u001b[0;32m     33\u001b[0m \u001b[0mplt\u001b[0m\u001b[1;33m.\u001b[0m\u001b[0mtitle\u001b[0m\u001b[1;33m(\u001b[0m\u001b[1;34mf\"Classifier variance for different versions\\ndownsampled to {n_min} samples to balance groups\"\u001b[0m\u001b[1;33m)\u001b[0m\u001b[1;33m\u001b[0m\u001b[1;33m\u001b[0m\u001b[0m\n",
      "\u001b[1;32m~\\Miniconda3\\envs\\thesis\\lib\\site-packages\\seaborn\\categorical.py\u001b[0m in \u001b[0;36mbarplot\u001b[1;34m(x, y, hue, data, order, hue_order, estimator, ci, n_boot, units, orient, color, palette, saturation, errcolor, errwidth, capsize, dodge, ax, **kwargs)\u001b[0m\n\u001b[0;32m   3147\u001b[0m                           \u001b[0mestimator\u001b[0m\u001b[1;33m,\u001b[0m \u001b[0mci\u001b[0m\u001b[1;33m,\u001b[0m \u001b[0mn_boot\u001b[0m\u001b[1;33m,\u001b[0m \u001b[0munits\u001b[0m\u001b[1;33m,\u001b[0m\u001b[1;33m\u001b[0m\u001b[1;33m\u001b[0m\u001b[0m\n\u001b[0;32m   3148\u001b[0m                           \u001b[0morient\u001b[0m\u001b[1;33m,\u001b[0m \u001b[0mcolor\u001b[0m\u001b[1;33m,\u001b[0m \u001b[0mpalette\u001b[0m\u001b[1;33m,\u001b[0m \u001b[0msaturation\u001b[0m\u001b[1;33m,\u001b[0m\u001b[1;33m\u001b[0m\u001b[1;33m\u001b[0m\u001b[0m\n\u001b[1;32m-> 3149\u001b[1;33m                           errcolor, errwidth, capsize, dodge)\n\u001b[0m\u001b[0;32m   3150\u001b[0m \u001b[1;33m\u001b[0m\u001b[0m\n\u001b[0;32m   3151\u001b[0m     \u001b[1;32mif\u001b[0m \u001b[0max\u001b[0m \u001b[1;32mis\u001b[0m \u001b[1;32mNone\u001b[0m\u001b[1;33m:\u001b[0m\u001b[1;33m\u001b[0m\u001b[1;33m\u001b[0m\u001b[0m\n",
      "\u001b[1;32m~\\Miniconda3\\envs\\thesis\\lib\\site-packages\\seaborn\\categorical.py\u001b[0m in \u001b[0;36m__init__\u001b[1;34m(self, x, y, hue, data, order, hue_order, estimator, ci, n_boot, units, orient, color, palette, saturation, errcolor, errwidth, capsize, dodge)\u001b[0m\n\u001b[0;32m   1607\u001b[0m                                  order, hue_order, units)\n\u001b[0;32m   1608\u001b[0m         \u001b[0mself\u001b[0m\u001b[1;33m.\u001b[0m\u001b[0mestablish_colors\u001b[0m\u001b[1;33m(\u001b[0m\u001b[0mcolor\u001b[0m\u001b[1;33m,\u001b[0m \u001b[0mpalette\u001b[0m\u001b[1;33m,\u001b[0m \u001b[0msaturation\u001b[0m\u001b[1;33m)\u001b[0m\u001b[1;33m\u001b[0m\u001b[1;33m\u001b[0m\u001b[0m\n\u001b[1;32m-> 1609\u001b[1;33m         \u001b[0mself\u001b[0m\u001b[1;33m.\u001b[0m\u001b[0mestimate_statistic\u001b[0m\u001b[1;33m(\u001b[0m\u001b[0mestimator\u001b[0m\u001b[1;33m,\u001b[0m \u001b[0mci\u001b[0m\u001b[1;33m,\u001b[0m \u001b[0mn_boot\u001b[0m\u001b[1;33m)\u001b[0m\u001b[1;33m\u001b[0m\u001b[1;33m\u001b[0m\u001b[0m\n\u001b[0m\u001b[0;32m   1610\u001b[0m \u001b[1;33m\u001b[0m\u001b[0m\n\u001b[0;32m   1611\u001b[0m         \u001b[0mself\u001b[0m\u001b[1;33m.\u001b[0m\u001b[0mdodge\u001b[0m \u001b[1;33m=\u001b[0m \u001b[0mdodge\u001b[0m\u001b[1;33m\u001b[0m\u001b[1;33m\u001b[0m\u001b[0m\n",
      "\u001b[1;32m~\\Miniconda3\\envs\\thesis\\lib\\site-packages\\seaborn\\categorical.py\u001b[0m in \u001b[0;36mestimate_statistic\u001b[1;34m(self, estimator, ci, n_boot)\u001b[0m\n\u001b[0;32m   1560\u001b[0m                             boots = bootstrap(stat_data, func=estimator,\n\u001b[0;32m   1561\u001b[0m                                               \u001b[0mn_boot\u001b[0m\u001b[1;33m=\u001b[0m\u001b[0mn_boot\u001b[0m\u001b[1;33m,\u001b[0m\u001b[1;33m\u001b[0m\u001b[1;33m\u001b[0m\u001b[0m\n\u001b[1;32m-> 1562\u001b[1;33m                                               units=unit_data)\n\u001b[0m\u001b[0;32m   1563\u001b[0m                             \u001b[0mconfint\u001b[0m\u001b[1;33m[\u001b[0m\u001b[0mi\u001b[0m\u001b[1;33m]\u001b[0m\u001b[1;33m.\u001b[0m\u001b[0mappend\u001b[0m\u001b[1;33m(\u001b[0m\u001b[0mutils\u001b[0m\u001b[1;33m.\u001b[0m\u001b[0mci\u001b[0m\u001b[1;33m(\u001b[0m\u001b[0mboots\u001b[0m\u001b[1;33m,\u001b[0m \u001b[0mci\u001b[0m\u001b[1;33m)\u001b[0m\u001b[1;33m)\u001b[0m\u001b[1;33m\u001b[0m\u001b[1;33m\u001b[0m\u001b[0m\n\u001b[0;32m   1564\u001b[0m \u001b[1;33m\u001b[0m\u001b[0m\n",
      "\u001b[1;32m~\\Miniconda3\\envs\\thesis\\lib\\site-packages\\seaborn\\algorithms.py\u001b[0m in \u001b[0;36mbootstrap\u001b[1;34m(*args, **kwargs)\u001b[0m\n\u001b[0;32m     84\u001b[0m     \u001b[0mboot_dist\u001b[0m \u001b[1;33m=\u001b[0m \u001b[1;33m[\u001b[0m\u001b[1;33m]\u001b[0m\u001b[1;33m\u001b[0m\u001b[1;33m\u001b[0m\u001b[0m\n\u001b[0;32m     85\u001b[0m     \u001b[1;32mfor\u001b[0m \u001b[0mi\u001b[0m \u001b[1;32min\u001b[0m \u001b[0mrange\u001b[0m\u001b[1;33m(\u001b[0m\u001b[0mint\u001b[0m\u001b[1;33m(\u001b[0m\u001b[0mn_boot\u001b[0m\u001b[1;33m)\u001b[0m\u001b[1;33m)\u001b[0m\u001b[1;33m:\u001b[0m\u001b[1;33m\u001b[0m\u001b[1;33m\u001b[0m\u001b[0m\n\u001b[1;32m---> 86\u001b[1;33m         \u001b[0mresampler\u001b[0m \u001b[1;33m=\u001b[0m \u001b[0mrs\u001b[0m\u001b[1;33m.\u001b[0m\u001b[0mrandint\u001b[0m\u001b[1;33m(\u001b[0m\u001b[1;36m0\u001b[0m\u001b[1;33m,\u001b[0m \u001b[0mn\u001b[0m\u001b[1;33m,\u001b[0m \u001b[0mn\u001b[0m\u001b[1;33m)\u001b[0m\u001b[1;33m\u001b[0m\u001b[1;33m\u001b[0m\u001b[0m\n\u001b[0m\u001b[0;32m     87\u001b[0m         \u001b[0msample\u001b[0m \u001b[1;33m=\u001b[0m \u001b[1;33m[\u001b[0m\u001b[0ma\u001b[0m\u001b[1;33m.\u001b[0m\u001b[0mtake\u001b[0m\u001b[1;33m(\u001b[0m\u001b[0mresampler\u001b[0m\u001b[1;33m,\u001b[0m \u001b[0maxis\u001b[0m\u001b[1;33m=\u001b[0m\u001b[1;36m0\u001b[0m\u001b[1;33m)\u001b[0m \u001b[1;32mfor\u001b[0m \u001b[0ma\u001b[0m \u001b[1;32min\u001b[0m \u001b[0margs\u001b[0m\u001b[1;33m]\u001b[0m\u001b[1;33m\u001b[0m\u001b[1;33m\u001b[0m\u001b[0m\n\u001b[0;32m     88\u001b[0m         \u001b[0mboot_dist\u001b[0m\u001b[1;33m.\u001b[0m\u001b[0mappend\u001b[0m\u001b[1;33m(\u001b[0m\u001b[0mf\u001b[0m\u001b[1;33m(\u001b[0m\u001b[1;33m*\u001b[0m\u001b[0msample\u001b[0m\u001b[1;33m,\u001b[0m \u001b[1;33m**\u001b[0m\u001b[0mfunc_kwargs\u001b[0m\u001b[1;33m)\u001b[0m\u001b[1;33m)\u001b[0m\u001b[1;33m\u001b[0m\u001b[1;33m\u001b[0m\u001b[0m\n",
      "\u001b[1;31mKeyboardInterrupt\u001b[0m: "
     ]
    },
    {
     "data": {
      "text/plain": [
       "<Figure size 1080x1080 with 0 Axes>"
      ]
     },
     "metadata": {},
     "output_type": "display_data"
    }
   ],
   "source": [
    "# Filter on version and codec combinations with more than 10,000 submissions\n",
    "tocheck = list(counts[counts['count'] > 10000].index)\n",
    "toplot = pd.DataFrame()\n",
    "toplot_sampled = pd.DataFrame()\n",
    "\n",
    "n_min = 20000\n",
    "# Find lowest n\n",
    "for comb in tocheck:\n",
    "    n = len(variances.loc[comb])\n",
    "    if n < n_min:\n",
    "        n_min = n\n",
    "\n",
    "for comb in tocheck:\n",
    "    df = variances.loc[comb].reset_index(drop=True)\n",
    "    df_sampled = df.sample(n_min)\n",
    "    df['version'] = str(comb)\n",
    "    df_sampled['version'] = str(comb)\n",
    "    toplot = toplot.append(df)\n",
    "    toplot_sampled = toplot_sampled.append(df_sampled)\n",
    "\n",
    "toplot = toplot.melt(id_vars=['version'])\n",
    "toplot_sampled = toplot_sampled.melt(id_vars=['version'])\n",
    "\n",
    "plt.figure()\n",
    "ax = sns.barplot(data=toplot, x='variable', y='value', hue='version', errwidth=1, capsize=.1)\n",
    "ax.set_xticklabels(ax.get_xticklabels(), rotation=45, horizontalalignment='right')\n",
    "plt.title(f\"Classifier variance for different versions\\nNo downsampling used\")\n",
    "plt.show()\n",
    "\n",
    "plt.figure()\n",
    "ax = sns.barplot(data=toplot_sampled, x='variable', y='value', hue='version', errwidth=1, capsize=.1)\n",
    "ax.set_xticklabels(ax.get_xticklabels(), rotation=45, horizontalalignment='right')\n",
    "plt.title(f\"Classifier variance for different versions\\ndownsampled to {n_min} samples to balance groups\")\n",
    "plt.show()"
   ]
  },
  {
   "cell_type": "code",
   "execution_count": null,
   "metadata": {
    "scrolled": false
   },
   "outputs": [],
   "source": [
    "# Filter on version and codec combinations with more than 1,000 submissions using codec flac\n",
    "tocheck = list(counts[counts['count'] > 1000].index)\n",
    "tocheck = [x for x in tocheck if x[3] == 0 and x[4] == 'flac']\n",
    "\n",
    "toplot = pd.DataFrame()\n",
    "toplot_sampled = pd.DataFrame()\n",
    "\n",
    "n_min = 20000\n",
    "# Find lowest n\n",
    "for comb in tocheck:\n",
    "    n = len(variances.loc[comb])\n",
    "    if n < n_min:\n",
    "        n_min = n\n",
    "\n",
    "for comb in tocheck:\n",
    "    df = variances.loc[comb].reset_index(drop=True)\n",
    "    df_sampled = df.sample(n_min)\n",
    "    df['version'] = str(comb)\n",
    "    df_sampled['version'] = str(comb)\n",
    "    toplot = toplot.append(df)\n",
    "    toplot_sampled = toplot_sampled.append(df_sampled)\n",
    "\n",
    "toplot = toplot.iloc[:,[0,8]]\n",
    "toplot = toplot.melt(id_vars=['version'])\n",
    "\n",
    "toplot_sampled = toplot_sampled.iloc[:,[0,8]]\n",
    "toplot_sampled = toplot_sampled.melt(id_vars=['version'])\n",
    "\n",
    "plt.figure()\n",
    "ax = sns.barplot(data=toplot, x='version', y='value', errwidth=1, capsize=.1)\n",
    "ax.set_xticklabels(ax.get_xticklabels(), rotation=45, horizontalalignment='right')\n",
    "plt.title(f\"Classifier variance for danceability\\nNo downsampling used\")\n",
    "plt.show()\n",
    "\n",
    "plt.figure()\n",
    "ax = sns.barplot(data=toplot_sampled, x='version', y='value', errwidth=1, capsize=.1)\n",
    "ax.set_xticklabels(ax.get_xticklabels(), rotation=45, horizontalalignment='right')\n",
    "plt.title(f\"Classifier variance for danceability\\nDownsampled to {n_min} samples to balance groups\")\n",
    "plt.show()"
   ]
  },
  {
   "cell_type": "markdown",
   "metadata": {},
   "source": [
    "# Stability on increasingly version granularities\n",
    "In theory, the more specific the version (git SHA, build SHA), the lower we would expect the bitrate to be.\n",
    "We look at three groups:\n",
    "- Just the lowlevel essentia version + bitrate 0 + flac\n",
    "- lowlevel essentia version + git SHA + bitrate 0 + flac\n",
    "- lowlevel essentia version + git SHA + build SHA + bitrate 0 + flac"
   ]
  },
  {
   "cell_type": "code",
   "execution_count": null,
   "metadata": {},
   "outputs": [],
   "source": [
    "# Least specific versioning\n",
    "grouped_least = acousticbrainz.groupby(['essentia_low', 'bit_rate', 'codec'])\n",
    "grouped_least = grouped_least.progress_apply(filter_submissions)\n",
    "variances_least = grouped_least[cols].groupby(level=[0,1,2,3]).progress_apply(get_variance)\n",
    "counts_least = pd.DataFrame(variances_least.groupby(level=[0,1,2]).size(), columns=['count']).sort_values(by='count', ascending=False)\n",
    "pooledvariances_least = variances_least.groupby(level=[0,1,2]).mean()\n",
    "\n",
    "# More specific versioning\n",
    "grouped_more = acousticbrainz.groupby(['essentia_low', 'essentia_git_sha_low', 'bit_rate', 'codec'])\n",
    "grouped_more = grouped_more.progress_apply(filter_submissions)\n",
    "variances_more = grouped_more[cols].groupby(level=[0,1,2,3,4]).progress_apply(get_variance)\n",
    "counts_more = pd.DataFrame(variances_more.groupby(level=[0,1,2,3]).size(), columns=['count']).sort_values(by='count', ascending=False)\n",
    "pooledvariances_more = variances_more.groupby(level=[0,1,2,3]).mean()\n",
    "\n",
    "# Most specific versioning (was already calculated)\n",
    "grouped_most = grouped\n",
    "variances_most = variances\n",
    "counts_most = counts\n",
    "pooledvariances_most = pooledvariances\n"
   ]
  },
  {
   "cell_type": "code",
   "execution_count": null,
   "metadata": {
    "scrolled": true
   },
   "outputs": [],
   "source": [
    "def print_full(x):\n",
    "    pd.set_option('display.max_rows', len(x))\n",
    "    pd.set_option('display.max_columns', None)\n",
    "    pd.set_option('display.width', 2000)\n",
    "    pd.set_option('display.float_format', '{:20,.2f}'.format)\n",
    "    pd.set_option('display.max_colwidth', -1)\n",
    "    print(x)\n",
    "    pd.reset_option('display.max_rows')\n",
    "    pd.reset_option('display.max_columns')\n",
    "    pd.reset_option('display.width')\n",
    "    pd.reset_option('display.float_format')\n",
    "    pd.reset_option('display.max_colwidth')\n",
    "\n",
    "display(counts_least)\n",
    "display(counts_more)\n",
    "print_full(counts_most)"
   ]
  },
  {
   "cell_type": "markdown",
   "metadata": {},
   "source": [
    "Let's plot the pooled variance for some versions with a lot of submissions"
   ]
  },
  {
   "cell_type": "code",
   "execution_count": null,
   "metadata": {
    "scrolled": false
   },
   "outputs": [],
   "source": [
    "tocheck = [\n",
    "    ('2.1-beta2', 'v2.1_beta2', '70f2e5ece6736b2c40cc944ad0e695b16b925413'),\n",
    "    ('2.1-beta1', 'v2.1_beta1-28-g21ef5f4-dirty', 'ca57ba49d9b1854bd80e60cf9ccf267278fb7d6b'),\n",
    "    ('2.1-beta2', 'v2.1_beta2-1-ge3940c0', '2d9f1f26377add8aeb1075a9c2973f962c4f09fd'),\n",
    "    ('2.1-beta1', 'v2.1_beta1-6-g5578087', '7f154e5731828a63663f0144680ef47bd640f88b'),\n",
    "    ('2.1-beta1', 'v2.1_beta1-7-ge0e83e8-dirty', '12879b851c9f4b0d899e1af4e221aa110f283a84')\n",
    "]\n",
    "\n",
    "for version in tocheck:\n",
    "    toplot_least = variances_least.loc[(version[0], 0, 'flac')]\n",
    "    toplot_least['version'] = version[0]\n",
    "\n",
    "    toplot_more = variances_more.loc[(version[0], version[1], 0, 'flac')]\n",
    "    toplot_more['version'] = str((version[0], version[1]))\n",
    "\n",
    "    toplot_most = variances_most.loc[(version[0], version[1], version[2], 0, 'flac')]\n",
    "    toplot_most['version'] = str((version[0], version[1], version[2]))\n",
    "\n",
    "    toplot = pd.concat([toplot_least, toplot_more, toplot_most])\n",
    "    toplot = toplot.melt(id_vars='version')\n",
    "\n",
    "    plt.figure()\n",
    "    ax = sns.barplot(data=toplot, x='variable', y='value', hue='version', errwidth=1, capsize=.1)\n",
    "    ax.set_xticklabels(ax.get_xticklabels(), rotation=45, horizontalalignment='right')\n",
    "    plt.title(f\"Pooled variances for different version granularities\")\n",
    "    plt.show()"
   ]
  },
  {
   "cell_type": "markdown",
   "metadata": {},
   "source": [
    "# Sanity check\n",
    "As a quick sanity check, when using more granular version sets, does lossy vs. lossless still make a difference?"
   ]
  },
  {
   "cell_type": "code",
   "execution_count": null,
   "metadata": {},
   "outputs": [],
   "source": [
    "tocheck_ver = ('2.1-beta2', 'v2.1_beta2-1-ge3940c0','2d9f1f26377add8aeb1075a9c2973f962c4f09fd')\n",
    "tocheck_qual = ((0, 'flac'), (192000, 'mp3'), (128000, 'mp3'))\n",
    "\n",
    "toplot = pd.DataFrame()\n",
    "for qual in tocheck_qual:\n",
    "    df = variances_most.loc[(tocheck_ver[0], tocheck_ver[1], tocheck_ver[2], qual[0], qual[1])]\n",
    "    df['quality'] = str(qual)\n",
    "    toplot = toplot.append(df)\n",
    "\n",
    "toplot = toplot.melt(id_vars=['quality'])\n",
    "\n",
    "plt.figure()\n",
    "ax = sns.barplot(data=toplot, x='variable', y='value', hue='quality', errwidth=1, capsize=.1)\n",
    "ax.set_xticklabels(ax.get_xticklabels(), rotation=45, horizontalalignment='right')\n",
    "plt.title(f\"Pooled variances for different audio quality representations for version\\n{tocheck_ver}\")\n",
    "plt.show()"
   ]
  },
  {
   "cell_type": "markdown",
   "metadata": {},
   "source": [
    "#### And for checking codec differences, filtering on the exact version only one comparison remains:"
   ]
  },
  {
   "cell_type": "code",
   "execution_count": null,
   "metadata": {},
   "outputs": [],
   "source": [
    "tocheck = counts_most.reset_index()\n",
    "tocheck = (tocheck.groupby(['essentia_low', 'essentia_git_sha_low', 'essentia_build_sha_low', 'bit_rate']).size() > 1).to_dict()\n",
    "\n",
    "check = []\n",
    "for (k, v) in tocheck.items():\n",
    "    if v:\n",
    "        check.append(k)\n",
    "\n",
    "cnts = counts.reset_index()\n",
    "\n",
    "tocheck = pd.DataFrame()\n",
    "for chk in check:\n",
    "    filtered_counts = cnts[(cnts['essentia_low'] == chk[0]) & (cnts['essentia_git_sha_low'] == chk[1]) & (cnts['essentia_build_sha_low'] == chk[2]) & (cnts['bit_rate'] == chk[3])]\n",
    "    filtered_counts = filtered_counts[filtered_counts['count'] >= 100]\n",
    "    if len(filtered_counts) > 1:\n",
    "        tocheck = tocheck.append(filtered_counts)\n",
    "\n",
    "tocheck"
   ]
  },
  {
   "cell_type": "code",
   "execution_count": null,
   "metadata": {},
   "outputs": [],
   "source": [
    "tocheck_ver = ('2.1-beta2', 'v2.1_beta2-1-ge3940c0', 'cead25079874084f62182a551b7393616cd33d87')\n",
    "tocheck_qual = ((320000, 'vorbis'), (320000, 'mp3'))\n",
    "n_min = 100\n",
    "\n",
    "toplot = pd.DataFrame()\n",
    "for qual in tocheck_qual:\n",
    "    data = variances.loc[(tocheck_ver[0], tocheck_ver[1], tocheck_ver[2], qual[0], qual[1])]\n",
    "    data['quality'] = str(qual)\n",
    "    data = data.sample(n_min)\n",
    "    toplot = toplot.append(data)\n",
    "\n",
    "toplot = toplot.melt(id_vars=['quality'])\n",
    "\n",
    "plt.figure()\n",
    "ax = sns.barplot(data=toplot, x='variable', y='value', hue='quality', errwidth=1, capsize=.1)\n",
    "ax.set_xticklabels(ax.get_xticklabels(), rotation=45, horizontalalignment='right')\n",
    "plt.title(f\"Pooled variances for different audio quality representations for version\\n{tocheck_ver}\")\n",
    "plt.show()"
   ]
  }
 ],
 "metadata": {
  "kernelspec": {
   "display_name": "Python 3",
   "language": "python",
   "name": "python3"
  },
  "language_info": {
   "codemirror_mode": {
    "name": "ipython",
    "version": 3
   },
   "file_extension": ".py",
   "mimetype": "text/x-python",
   "name": "python",
   "nbconvert_exporter": "python",
   "pygments_lexer": "ipython3",
   "version": "3.7.4"
  }
 },
 "nbformat": 4,
 "nbformat_minor": 4
}
