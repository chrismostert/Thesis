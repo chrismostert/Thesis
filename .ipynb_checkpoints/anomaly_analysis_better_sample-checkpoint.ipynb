{
 "cells": [
  {
   "cell_type": "code",
   "execution_count": 1,
   "metadata": {},
   "outputs": [
    {
     "data": {
      "application/vnd.jupyter.widget-view+json": {
       "model_id": "e3aa92a4353549f4ba761d5d5b6b6aaf",
       "version_major": 2,
       "version_minor": 0
      },
      "text/plain": [
       "HBox(children=(FloatProgress(value=1.0, bar_style='info', max=1.0), HTML(value='')))"
      ]
     },
     "metadata": {},
     "output_type": "display_data"
    },
    {
     "name": "stderr",
     "output_type": "stream",
     "text": [
      "C:\\Users\\Chris\\Miniconda3\\envs\\thesis2\\lib\\site-packages\\tqdm\\std.py:668: FutureWarning: The Panel class is removed from pandas. Accessing it from the top-level namespace will also be removed in the next version\n",
      "  from pandas import Panel\n"
     ]
    },
    {
     "name": "stdout",
     "output_type": "stream",
     "text": [
      "\n"
     ]
    }
   ],
   "source": [
    "from pathlib import Path\n",
    "import pandas as pd\n",
    "import matplotlib.pyplot as plt\n",
    "import seaborn as sns\n",
    "import math\n",
    "import numpy as np\n",
    "# Use seaborn style defaults and set the default figure size\n",
    "sns.set(rc={'figure.figsize':(15, 15)})\n",
    "\n",
    "from tqdm.notebook import tqdm\n",
    "tqdm().pandas()\n",
    "\n",
    "# Classifiers to select\n",
    "toSelect = [('mood_acoustic', 'acoustic'), ('mood_electronic', 'electronic'),\n",
    "            ('mood_relaxed', 'relaxed'), ('mood_sad', 'sad')]\n",
    "# Labels used for these plots\n",
    "labels = [x[0] for x in toSelect]\n",
    "\n",
    "def plot_distribution(data, toSelect, labels, ytop):\n",
    "    cols = [data[x] for x in toSelect]\n",
    "    sns.set(font_scale=1)\n",
    "    fig = plt.figure(figsize=(8,8))\n",
    "    plt.ylim(top=ytop)\n",
    "    plt.xlabel('Bin range')\n",
    "    plt.ylabel('Bin count')\n",
    "\n",
    "    for i in range(0, len(cols)):\n",
    "        y,binEdges = np.histogram(cols[i],bins=200)\n",
    "        bincenters = 0.5*(binEdges[1:]+binEdges[:-1])\n",
    "        plt.plot(bincenters, y, label=labels[i])\n",
    "\n",
    "    plt.legend()\n",
    "    plt.show()\n",
    "\n",
    "# Load in the acousticbrainz dataset into the variable 'acousticbrainz'\n",
    "acousticbrainz = pd.read_hdf(Path.cwd() / 'datasets' / 'acousticbrainzV3.h5')\n",
    "\n",
    "acousticbrainz['mbid'] = acousticbrainz.index.get_level_values(0)"
   ]
  },
  {
   "cell_type": "code",
   "execution_count": 2,
   "metadata": {},
   "outputs": [],
   "source": [
    "# Spike in acousticness at 0.09 - 0.10\n",
    "acoust_spike = acousticbrainz[acousticbrainz[('mood_acoustic', 'acoustic')].between(0.09, 0.10, inclusive=True)]\n",
    "\n",
    "# Spike in mood relaxed at 0.805 - 0.815\n",
    "relaxed_spike = acousticbrainz[acousticbrainz[('mood_relaxed', 'relaxed')].between(0.805, 0.815, inclusive=True)]\n",
    "\n",
    "# Spike in mood electronic at 0.972 - 0.982\n",
    "electronic_spike = acousticbrainz[acousticbrainz[('mood_electronic', 'electronic')].between(0.972, 0.982, inclusive=True)]\n",
    "\n",
    "# Small spike in sad at 0.346 - 0.362\n",
    "sad_spike = acousticbrainz[acousticbrainz[('mood_sad', 'sad')].between(0.346, 0.362, inclusive=True)]"
   ]
  },
  {
   "cell_type": "code",
   "execution_count": 3,
   "metadata": {},
   "outputs": [
    {
     "data": {
      "text/html": [
       "<div>\n",
       "<style scoped>\n",
       "    .dataframe tbody tr th:only-of-type {\n",
       "        vertical-align: middle;\n",
       "    }\n",
       "\n",
       "    .dataframe tbody tr th {\n",
       "        vertical-align: top;\n",
       "    }\n",
       "\n",
       "    .dataframe thead th {\n",
       "        text-align: right;\n",
       "    }\n",
       "</style>\n",
       "<table border=\"1\" class=\"dataframe\">\n",
       "  <thead>\n",
       "    <tr style=\"text-align: right;\">\n",
       "      <th></th>\n",
       "      <th>#recordings</th>\n",
       "      <th>#submissions</th>\n",
       "    </tr>\n",
       "  </thead>\n",
       "  <tbody>\n",
       "    <tr>\n",
       "      <th>acoust_spike</th>\n",
       "      <td>282605</td>\n",
       "      <td>358747</td>\n",
       "    </tr>\n",
       "    <tr>\n",
       "      <th>relaxed_spike</th>\n",
       "      <td>373555</td>\n",
       "      <td>485184</td>\n",
       "    </tr>\n",
       "    <tr>\n",
       "      <th>electronic_spike</th>\n",
       "      <td>315626</td>\n",
       "      <td>401151</td>\n",
       "    </tr>\n",
       "    <tr>\n",
       "      <th>sad_spike</th>\n",
       "      <td>57697</td>\n",
       "      <td>75688</td>\n",
       "    </tr>\n",
       "  </tbody>\n",
       "</table>\n",
       "</div>"
      ],
      "text/plain": [
       "                  #recordings  #submissions\n",
       "acoust_spike           282605        358747\n",
       "relaxed_spike          373555        485184\n",
       "electronic_spike       315626        401151\n",
       "sad_spike               57697         75688"
      ]
     },
     "execution_count": 3,
     "metadata": {},
     "output_type": "execute_result"
    }
   ],
   "source": [
    "spike_names = ['acoust_spike', 'relaxed_spike', 'electronic_spike', 'sad_spike']\n",
    "recordingsizes = pd.DataFrame(\n",
    "    [len(acoust_spike.index.get_level_values(0).unique()),\n",
    "    len(relaxed_spike.index.get_level_values(0).unique()),\n",
    "    len(electronic_spike.index.get_level_values(0).unique()),\n",
    "    len(sad_spike.index.get_level_values(0).unique())],\n",
    "    index=spike_names, columns=['#recordings']\n",
    ")\n",
    "samplesizes = pd.DataFrame([len(acoust_spike), len(relaxed_spike), len(electronic_spike), len(sad_spike)], index=spike_names, columns=['#submissions'])\n",
    "\n",
    "samplesizes = recordingsizes.join(samplesizes)\n",
    "samplesizes"
   ]
  },
  {
   "cell_type": "code",
   "execution_count": 4,
   "metadata": {},
   "outputs": [
    {
     "data": {
      "text/plain": [
       "'\\\\begin{tabular}{lrr}\\n\\\\toprule\\n{} &  \\\\#recordings &  \\\\#submissions \\\\\\\\\\n\\\\midrule\\nacoust\\\\_spike     &       282605 &        358747 \\\\\\\\\\nrelaxed\\\\_spike    &       373555 &        485184 \\\\\\\\\\nelectronic\\\\_spike &       315626 &        401151 \\\\\\\\\\nsad\\\\_spike        &        57697 &         75688 \\\\\\\\\\n\\\\bottomrule\\n\\\\end{tabular}\\n'"
      ]
     },
     "execution_count": 4,
     "metadata": {},
     "output_type": "execute_result"
    }
   ],
   "source": [
    "samplesizes.to_latex()"
   ]
  },
  {
   "cell_type": "markdown",
   "metadata": {},
   "source": [
    "The baseline consists of all submissions that do **not** fall in *any* of these three peaks:"
   ]
  },
  {
   "cell_type": "code",
   "execution_count": 5,
   "metadata": {},
   "outputs": [],
   "source": [
    "spike_ids = set(acoust_spike.index).union(relaxed_spike.index, electronic_spike.index, sad_spike.index)\n",
    "nonspike_ids = set(acousticbrainz.index).difference(spike_ids)\n",
    "baseline = acousticbrainz.loc[list(nonspike_ids)]"
   ]
  },
  {
   "cell_type": "markdown",
   "metadata": {},
   "source": [
    "Make sure that the baseline has the peaks filtered out:"
   ]
  },
  {
   "cell_type": "code",
   "execution_count": 6,
   "metadata": {},
   "outputs": [
    {
     "name": "stdout",
     "output_type": "stream",
     "text": [
      "Full dataset:\n"
     ]
    },
    {
     "data": {
      "image/png": "[encoded data removed]",
      "text/plain": [
       "<Figure size 576x576 with 1 Axes>"
      ]
     },
     "metadata": {},
     "output_type": "display_data"
    },
    {
     "name": "stdout",
     "output_type": "stream",
     "text": [
      "Baseline:\n"
     ]
    },
    {
     "data": {
      "image/png": "[encoded data removed]",
      "text/plain": [
       "<Figure size 576x576 with 1 Axes>"
      ]
     },
     "metadata": {},
     "output_type": "display_data"
    },
    {
     "name": "stdout",
     "output_type": "stream",
     "text": [
      "No. recordings: 855266\n",
      "No. submissions: 1239882\n"
     ]
    }
   ],
   "source": [
    "print(\"Full dataset:\")\n",
    "plot_distribution(acousticbrainz, toSelect, labels, 600000)\n",
    "print(\"Baseline:\")\n",
    "plot_distribution(baseline, toSelect, labels, 200000)\n",
    "print(f\"No. recordings: {len(baseline.index.get_level_values(0).unique())}\")\n",
    "print(f\"No. submissions: {len(baseline)}\")"
   ]
  },
  {
   "cell_type": "markdown",
   "metadata": {},
   "source": [
    "So the full samplesizes for all slices are:"
   ]
  },
  {
   "cell_type": "code",
   "execution_count": 7,
   "metadata": {},
   "outputs": [
    {
     "data": {
      "text/html": [
       "<div>\n",
       "<style scoped>\n",
       "    .dataframe tbody tr th:only-of-type {\n",
       "        vertical-align: middle;\n",
       "    }\n",
       "\n",
       "    .dataframe tbody tr th {\n",
       "        vertical-align: top;\n",
       "    }\n",
       "\n",
       "    .dataframe thead th {\n",
       "        text-align: right;\n",
       "    }\n",
       "</style>\n",
       "<table border=\"1\" class=\"dataframe\">\n",
       "  <thead>\n",
       "    <tr style=\"text-align: right;\">\n",
       "      <th></th>\n",
       "      <th>#recordings</th>\n",
       "      <th>#submissions</th>\n",
       "    </tr>\n",
       "  </thead>\n",
       "  <tbody>\n",
       "    <tr>\n",
       "      <th>acoust_spike</th>\n",
       "      <td>282605</td>\n",
       "      <td>358747</td>\n",
       "    </tr>\n",
       "    <tr>\n",
       "      <th>relaxed_spike</th>\n",
       "      <td>373555</td>\n",
       "      <td>485184</td>\n",
       "    </tr>\n",
       "    <tr>\n",
       "      <th>electronic_spike</th>\n",
       "      <td>315626</td>\n",
       "      <td>401151</td>\n",
       "    </tr>\n",
       "    <tr>\n",
       "      <th>sad_spike</th>\n",
       "      <td>57697</td>\n",
       "      <td>75688</td>\n",
       "    </tr>\n",
       "    <tr>\n",
       "      <th>baseline</th>\n",
       "      <td>1239882</td>\n",
       "      <td>1239882</td>\n",
       "    </tr>\n",
       "  </tbody>\n",
       "</table>\n",
       "</div>"
      ],
      "text/plain": [
       "                  #recordings  #submissions\n",
       "acoust_spike           282605        358747\n",
       "relaxed_spike          373555        485184\n",
       "electronic_spike       315626        401151\n",
       "sad_spike               57697         75688\n",
       "baseline              1239882       1239882"
      ]
     },
     "execution_count": 7,
     "metadata": {},
     "output_type": "execute_result"
    }
   ],
   "source": [
    "samplesizes.loc['baseline'] = len(baseline)\n",
    "samplesizes"
   ]
  },
  {
   "cell_type": "markdown",
   "metadata": {},
   "source": [
    "# Simple analysis"
   ]
  },
  {
   "cell_type": "code",
   "execution_count": 8,
   "metadata": {
    "scrolled": false
   },
   "outputs": [
    {
     "data": {
      "text/html": [
       "<div>\n",
       "<style scoped>\n",
       "    .dataframe tbody tr th:only-of-type {\n",
       "        vertical-align: middle;\n",
       "    }\n",
       "\n",
       "    .dataframe tbody tr th {\n",
       "        vertical-align: top;\n",
       "    }\n",
       "\n",
       "    .dataframe thead th {\n",
       "        text-align: right;\n",
       "    }\n",
       "</style>\n",
       "<table border=\"1\" class=\"dataframe\">\n",
       "  <thead>\n",
       "    <tr style=\"text-align: right;\">\n",
       "      <th></th>\n",
       "      <th>Percentage lossless</th>\n",
       "    </tr>\n",
       "  </thead>\n",
       "  <tbody>\n",
       "    <tr>\n",
       "      <th>Baseline</th>\n",
       "      <td>0.383775</td>\n",
       "    </tr>\n",
       "    <tr>\n",
       "      <th>Acoustic spike</th>\n",
       "      <td>0.105501</td>\n",
       "    </tr>\n",
       "    <tr>\n",
       "      <th>Relaxed spike</th>\n",
       "      <td>0.162542</td>\n",
       "    </tr>\n",
       "    <tr>\n",
       "      <th>Electronic spike</th>\n",
       "      <td>0.117786</td>\n",
       "    </tr>\n",
       "    <tr>\n",
       "      <th>Sad spike</th>\n",
       "      <td>0.364800</td>\n",
       "    </tr>\n",
       "  </tbody>\n",
       "</table>\n",
       "</div>"
      ],
      "text/plain": [
       "                  Percentage lossless\n",
       "Baseline                     0.383775\n",
       "Acoustic spike               0.105501\n",
       "Relaxed spike                0.162542\n",
       "Electronic spike             0.117786\n",
       "Sad spike                    0.364800"
      ]
     },
     "metadata": {},
     "output_type": "display_data"
    },
    {
     "name": "stdout",
     "output_type": "stream",
     "text": [
      "\\begin{tabular}{lr}\n",
      "\\toprule\n",
      "{} &  Percentage lossless \\\\\n",
      "\\midrule\n",
      "Baseline         &             0.383775 \\\\\n",
      "Acoustic spike   &             0.105501 \\\\\n",
      "Relaxed spike    &             0.162542 \\\\\n",
      "Electronic spike &             0.117786 \\\\\n",
      "Sad spike        &             0.364800 \\\\\n",
      "\\bottomrule\n",
      "\\end{tabular}\n",
      "\n"
     ]
    },
    {
     "data": {
      "text/html": [
       "<div>\n",
       "<style scoped>\n",
       "    .dataframe tbody tr th:only-of-type {\n",
       "        vertical-align: middle;\n",
       "    }\n",
       "\n",
       "    .dataframe tbody tr th {\n",
       "        vertical-align: top;\n",
       "    }\n",
       "\n",
       "    .dataframe thead th {\n",
       "        text-align: right;\n",
       "    }\n",
       "</style>\n",
       "<table border=\"1\" class=\"dataframe\">\n",
       "  <thead>\n",
       "    <tr style=\"text-align: right;\">\n",
       "      <th></th>\n",
       "      <th>mp3</th>\n",
       "      <th>flac</th>\n",
       "      <th>vorbis</th>\n",
       "      <th>aac</th>\n",
       "      <th>wmav2</th>\n",
       "      <th>alac</th>\n",
       "      <th>mpc7</th>\n",
       "      <th>mp2</th>\n",
       "      <th>ape</th>\n",
       "      <th>wavpack</th>\n",
       "      <th>mp1</th>\n",
       "      <th>wmapro</th>\n",
       "      <th>mpc8</th>\n",
       "    </tr>\n",
       "  </thead>\n",
       "  <tbody>\n",
       "    <tr>\n",
       "      <th>Baseline</th>\n",
       "      <td>0.531555</td>\n",
       "      <td>0.382918</td>\n",
       "      <td>0.042965</td>\n",
       "      <td>0.040064</td>\n",
       "      <td>0.001094</td>\n",
       "      <td>0.000760</td>\n",
       "      <td>0.000408</td>\n",
       "      <td>0.000101</td>\n",
       "      <td>0.000098</td>\n",
       "      <td>0.000034</td>\n",
       "      <td>0.000002</td>\n",
       "      <td>8.065284e-07</td>\n",
       "      <td>8.065284e-07</td>\n",
       "    </tr>\n",
       "    <tr>\n",
       "      <th>Acoustic spike</th>\n",
       "      <td>0.844213</td>\n",
       "      <td>0.083374</td>\n",
       "      <td>0.028633</td>\n",
       "      <td>0.017084</td>\n",
       "      <td>0.004125</td>\n",
       "      <td>0.022121</td>\n",
       "      <td>0.000137</td>\n",
       "      <td>0.000089</td>\n",
       "      <td>0.000006</td>\n",
       "      <td>0.000195</td>\n",
       "      <td>NaN</td>\n",
       "      <td>NaN</td>\n",
       "      <td>2.229984e-05</td>\n",
       "    </tr>\n",
       "    <tr>\n",
       "      <th>Relaxed spike</th>\n",
       "      <td>0.783913</td>\n",
       "      <td>0.144755</td>\n",
       "      <td>0.031341</td>\n",
       "      <td>0.018086</td>\n",
       "      <td>0.003685</td>\n",
       "      <td>0.017748</td>\n",
       "      <td>0.000165</td>\n",
       "      <td>0.000091</td>\n",
       "      <td>0.000039</td>\n",
       "      <td>0.000159</td>\n",
       "      <td>NaN</td>\n",
       "      <td>NaN</td>\n",
       "      <td>1.854966e-05</td>\n",
       "    </tr>\n",
       "    <tr>\n",
       "      <th>Electronic spike</th>\n",
       "      <td>0.832754</td>\n",
       "      <td>0.097053</td>\n",
       "      <td>0.029009</td>\n",
       "      <td>0.016009</td>\n",
       "      <td>0.004023</td>\n",
       "      <td>0.020728</td>\n",
       "      <td>0.000110</td>\n",
       "      <td>0.000095</td>\n",
       "      <td>0.000005</td>\n",
       "      <td>0.000192</td>\n",
       "      <td>NaN</td>\n",
       "      <td>NaN</td>\n",
       "      <td>2.243544e-05</td>\n",
       "    </tr>\n",
       "    <tr>\n",
       "      <th>Sad spike</th>\n",
       "      <td>0.570315</td>\n",
       "      <td>0.361550</td>\n",
       "      <td>0.032647</td>\n",
       "      <td>0.027785</td>\n",
       "      <td>0.003686</td>\n",
       "      <td>0.003250</td>\n",
       "      <td>0.000370</td>\n",
       "      <td>0.000119</td>\n",
       "      <td>NaN</td>\n",
       "      <td>0.000277</td>\n",
       "      <td>NaN</td>\n",
       "      <td>NaN</td>\n",
       "      <td>NaN</td>\n",
       "    </tr>\n",
       "  </tbody>\n",
       "</table>\n",
       "</div>"
      ],
      "text/plain": [
       "                       mp3      flac    vorbis       aac     wmav2      alac  \\\n",
       "Baseline          0.531555  0.382918  0.042965  0.040064  0.001094  0.000760   \n",
       "Acoustic spike    0.844213  0.083374  0.028633  0.017084  0.004125  0.022121   \n",
       "Relaxed spike     0.783913  0.144755  0.031341  0.018086  0.003685  0.017748   \n",
       "Electronic spike  0.832754  0.097053  0.029009  0.016009  0.004023  0.020728   \n",
       "Sad spike         0.570315  0.361550  0.032647  0.027785  0.003686  0.003250   \n",
       "\n",
       "                      mpc7       mp2       ape   wavpack       mp1  \\\n",
       "Baseline          0.000408  0.000101  0.000098  0.000034  0.000002   \n",
       "Acoustic spike    0.000137  0.000089  0.000006  0.000195       NaN   \n",
       "Relaxed spike     0.000165  0.000091  0.000039  0.000159       NaN   \n",
       "Electronic spike  0.000110  0.000095  0.000005  0.000192       NaN   \n",
       "Sad spike         0.000370  0.000119       NaN  0.000277       NaN   \n",
       "\n",
       "                        wmapro          mpc8  \n",
       "Baseline          8.065284e-07  8.065284e-07  \n",
       "Acoustic spike             NaN  2.229984e-05  \n",
       "Relaxed spike              NaN  1.854966e-05  \n",
       "Electronic spike           NaN  2.243544e-05  \n",
       "Sad spike                  NaN           NaN  "
      ]
     },
     "metadata": {},
     "output_type": "display_data"
    },
    {
     "name": "stdout",
     "output_type": "stream",
     "text": [
      "\\begin{tabular}{lrrrrr}\n",
      "\\toprule\n",
      "{} &       mp3 &      flac &    vorbis &       aac &      alac \\\\\n",
      "\\midrule\n",
      "Baseline         &  0.531555 &  0.382918 &  0.042965 &  0.040064 &  0.000760 \\\\\n",
      "Acoustic spike   &  0.844213 &  0.083374 &  0.028633 &  0.017084 &  0.022121 \\\\\n",
      "Relaxed spike    &  0.783913 &  0.144755 &  0.031341 &  0.018086 &  0.017748 \\\\\n",
      "Electronic spike &  0.832754 &  0.097053 &  0.029009 &  0.016009 &  0.020728 \\\\\n",
      "Sad spike        &  0.570315 &  0.361550 &  0.032647 &  0.027785 &  0.003250 \\\\\n",
      "\\bottomrule\n",
      "\\end{tabular}\n",
      "\n"
     ]
    },
    {
     "data": {
      "text/html": [
       "<div>\n",
       "<style scoped>\n",
       "    .dataframe tbody tr th:only-of-type {\n",
       "        vertical-align: middle;\n",
       "    }\n",
       "\n",
       "    .dataframe tbody tr th {\n",
       "        vertical-align: top;\n",
       "    }\n",
       "\n",
       "    .dataframe thead th {\n",
       "        text-align: right;\n",
       "    }\n",
       "</style>\n",
       "<table border=\"1\" class=\"dataframe\">\n",
       "  <thead>\n",
       "    <tr style=\"text-align: right;\">\n",
       "      <th></th>\n",
       "      <th>2.1-beta2</th>\n",
       "      <th>2.1-beta1</th>\n",
       "    </tr>\n",
       "  </thead>\n",
       "  <tbody>\n",
       "    <tr>\n",
       "      <th>Baseline</th>\n",
       "      <td>0.791706</td>\n",
       "      <td>0.208294</td>\n",
       "    </tr>\n",
       "    <tr>\n",
       "      <th>Acoustic spike</th>\n",
       "      <td>0.112207</td>\n",
       "      <td>0.887793</td>\n",
       "    </tr>\n",
       "    <tr>\n",
       "      <th>Relaxed spike</th>\n",
       "      <td>0.197968</td>\n",
       "      <td>0.802032</td>\n",
       "    </tr>\n",
       "    <tr>\n",
       "      <th>Electronic spike</th>\n",
       "      <td>0.125277</td>\n",
       "      <td>0.874723</td>\n",
       "    </tr>\n",
       "    <tr>\n",
       "      <th>Sad spike</th>\n",
       "      <td>0.637921</td>\n",
       "      <td>0.362079</td>\n",
       "    </tr>\n",
       "  </tbody>\n",
       "</table>\n",
       "</div>"
      ],
      "text/plain": [
       "                  2.1-beta2  2.1-beta1\n",
       "Baseline           0.791706   0.208294\n",
       "Acoustic spike     0.112207   0.887793\n",
       "Relaxed spike      0.197968   0.802032\n",
       "Electronic spike   0.125277   0.874723\n",
       "Sad spike          0.637921   0.362079"
      ]
     },
     "metadata": {},
     "output_type": "display_data"
    },
    {
     "name": "stdout",
     "output_type": "stream",
     "text": [
      "\\begin{tabular}{lrr}\n",
      "\\toprule\n",
      "{} &  2.1-beta2 &  2.1-beta1 \\\\\n",
      "\\midrule\n",
      "Baseline         &   0.791706 &   0.208294 \\\\\n",
      "Acoustic spike   &   0.112207 &   0.887793 \\\\\n",
      "Relaxed spike    &   0.197968 &   0.802032 \\\\\n",
      "Electronic spike &   0.125277 &   0.874723 \\\\\n",
      "Sad spike        &   0.637921 &   0.362079 \\\\\n",
      "\\bottomrule\n",
      "\\end{tabular}\n",
      "\n"
     ]
    }
   ],
   "source": [
    "# Check if any pattern in the amount of lossless songs:\n",
    "loss_baseline = baseline['lossless'].value_counts(normalize=True)\n",
    "loss_acoust_spike = acoust_spike['lossless'].value_counts(normalize=True)\n",
    "loss_relaxed_spike = relaxed_spike['lossless'].value_counts(normalize=True)\n",
    "loss_electronic_spike = electronic_spike['lossless'].value_counts(normalize=True)\n",
    "loss_sad_spike = sad_spike['lossless'].value_counts(normalize=True)\n",
    "\n",
    "lossless_stats = pd.DataFrame([loss_baseline[1], loss_acoust_spike[1], loss_relaxed_spike[1],\n",
    "                               loss_electronic_spike[1], loss_sad_spike[1]],\n",
    "            index=['Baseline', 'Acoustic spike', 'Relaxed spike', 'Electronic spike', 'Sad spike'],\n",
    "            columns = ['Percentage lossless'])\n",
    "\n",
    "display(lossless_stats)\n",
    "print(lossless_stats.to_latex())\n",
    "\n",
    "# Check if any pattern in the codec of the songs:\n",
    "codec_baseline = baseline['codec'].value_counts(normalize=True)\n",
    "codec_acoust_spike = acoust_spike['codec'].value_counts(normalize=True)\n",
    "codec_relaxed_spike = relaxed_spike['codec'].value_counts(normalize=True)\n",
    "codec_electronic_spike = electronic_spike['codec'].value_counts(normalize=True)\n",
    "codec_sad_spike = sad_spike['codec'].value_counts(normalize=True)\n",
    "\n",
    "codec_stats = pd.DataFrame([codec_baseline, codec_acoust_spike, codec_relaxed_spike,\n",
    "                               codec_electronic_spike, codec_sad_spike],\n",
    "            index=['Baseline', 'Acoustic spike', 'Relaxed spike', 'Electronic spike', 'Sad spike'],)\n",
    "\n",
    "display(codec_stats)\n",
    "print(codec_stats[['mp3', 'flac', 'vorbis', 'aac', 'alac']].fillna(value=0.0).to_latex())\n",
    "\n",
    "# Most versions are the same, however the essentia version for the low level features\n",
    "# (used to calculate the high level features) does have some variation\n",
    "ver_baseline = baseline['essentia_low'].value_counts(normalize=True)\n",
    "ver_acoust_spike = acoust_spike['essentia_low'].value_counts(normalize=True)\n",
    "ver_relaxed_spike = relaxed_spike['essentia_low'].value_counts(normalize=True)\n",
    "ver_electronic_spike = electronic_spike['essentia_low'].value_counts(normalize=True)\n",
    "ver_sad_spike = sad_spike['essentia_low'].value_counts(normalize=True)\n",
    "\n",
    "ver_stats = pd.DataFrame([ver_baseline, ver_acoust_spike, ver_relaxed_spike,\n",
    "                          ver_electronic_spike, ver_sad_spike],\n",
    "                        index=['Baseline', 'Acoustic spike', 'Relaxed spike', 'Electronic spike', 'Sad spike'])\n",
    "\n",
    "display(ver_stats)\n",
    "print(ver_stats.to_latex())"
   ]
  },
  {
   "cell_type": "markdown",
   "metadata": {},
   "source": [
    "# JSD analysis"
   ]
  },
  {
   "cell_type": "code",
   "execution_count": 9,
   "metadata": {},
   "outputs": [],
   "source": [
    "from scipy.spatial.distance import jensenshannon\n",
    "\n",
    "# Input should be value counts\n",
    "def get_shannondist(a, b):\n",
    "    # Make sure that the value occurs a few times (10 was chosen here) to prevent inflation due to rare or invalid values\n",
    "    a = a[a >= 10]\n",
    "    b = b[b >= 10]\n",
    "    # Make a dataframe to sort the indexes and drop values that do not occur in both inputs\n",
    "    df = pd.DataFrame([a,b]).dropna(axis=1)\n",
    "    # Return the distance\n",
    "    return jensenshannon(df.iloc[0], df.iloc[1], base=2)\n",
    "\n",
    "def highlight_max(s):\n",
    "    '''\n",
    "    highlight the maximum in a Series yellow.\n",
    "    '''\n",
    "    is_max = s == s.max()\n",
    "    return ['background-color: yellow' if v else '' for v in is_max]"
   ]
  },
  {
   "cell_type": "code",
   "execution_count": 10,
   "metadata": {
    "scrolled": false
   },
   "outputs": [
    {
     "data": {
      "text/html": [
       "<div>\n",
       "<style scoped>\n",
       "    .dataframe tbody tr th:only-of-type {\n",
       "        vertical-align: middle;\n",
       "    }\n",
       "\n",
       "    .dataframe tbody tr th {\n",
       "        vertical-align: top;\n",
       "    }\n",
       "\n",
       "    .dataframe thead th {\n",
       "        text-align: right;\n",
       "    }\n",
       "</style>\n",
       "<table border=\"1\" class=\"dataframe\">\n",
       "  <thead>\n",
       "    <tr style=\"text-align: right;\">\n",
       "      <th></th>\n",
       "      <th>acoust_spike</th>\n",
       "      <th>relaxed_spike</th>\n",
       "      <th>electronic_spike</th>\n",
       "      <th>sad_spike</th>\n",
       "    </tr>\n",
       "  </thead>\n",
       "  <tbody>\n",
       "    <tr>\n",
       "      <th>downmix</th>\n",
       "      <td>0.000893558</td>\n",
       "      <td>0.000526145</td>\n",
       "      <td>0.000697558</td>\n",
       "      <td>0</td>\n",
       "    </tr>\n",
       "    <tr>\n",
       "      <th>length</th>\n",
       "      <td>0.145746</td>\n",
       "      <td>0.150273</td>\n",
       "      <td>0.148331</td>\n",
       "      <td>0.31763</td>\n",
       "    </tr>\n",
       "    <tr>\n",
       "      <th>lossless</th>\n",
       "      <td>0.281495</td>\n",
       "      <td>0.21319</td>\n",
       "      <td>0.265893</td>\n",
       "      <td>0.0166514</td>\n",
       "    </tr>\n",
       "    <tr>\n",
       "      <th>codec</th>\n",
       "      <td>0.339619</td>\n",
       "      <td>0.26285</td>\n",
       "      <td>0.322216</td>\n",
       "      <td>0.0569593</td>\n",
       "    </tr>\n",
       "    <tr>\n",
       "      <th>bit_rate</th>\n",
       "      <td>0.418759</td>\n",
       "      <td>0.322867</td>\n",
       "      <td>0.39447</td>\n",
       "      <td>0.166321</td>\n",
       "    </tr>\n",
       "    <tr>\n",
       "      <th>essentia_low</th>\n",
       "      <td>0.609062</td>\n",
       "      <td>0.521436</td>\n",
       "      <td>0.594767</td>\n",
       "      <td>0.145326</td>\n",
       "    </tr>\n",
       "    <tr>\n",
       "      <th>essentia_git_sha_low</th>\n",
       "      <td>0.672409</td>\n",
       "      <td>0.584972</td>\n",
       "      <td>0.660398</td>\n",
       "      <td>0.23105</td>\n",
       "    </tr>\n",
       "    <tr>\n",
       "      <th>essentia_build_sha_low</th>\n",
       "      <td>0.70419</td>\n",
       "      <td>0.615245</td>\n",
       "      <td>0.692346</td>\n",
       "      <td>0.239792</td>\n",
       "    </tr>\n",
       "  </tbody>\n",
       "</table>\n",
       "</div>"
      ],
      "text/plain": [
       "                       acoust_spike relaxed_spike electronic_spike  sad_spike\n",
       "downmix                 0.000893558   0.000526145      0.000697558          0\n",
       "length                     0.145746      0.150273         0.148331    0.31763\n",
       "lossless                   0.281495       0.21319         0.265893  0.0166514\n",
       "codec                      0.339619       0.26285         0.322216  0.0569593\n",
       "bit_rate                   0.418759      0.322867          0.39447   0.166321\n",
       "essentia_low               0.609062      0.521436         0.594767   0.145326\n",
       "essentia_git_sha_low       0.672409      0.584972         0.660398    0.23105\n",
       "essentia_build_sha_low      0.70419      0.615245         0.692346   0.239792"
      ]
     },
     "execution_count": 10,
     "metadata": {},
     "output_type": "execute_result"
    }
   ],
   "source": [
    "#spikes_list = [baseline, acoust_spike, relaxed_spike, electronic_spike, sad_spike]\n",
    "#spikes_list_names = ['baseline'] + spike_names\n",
    "\n",
    "spikes_list = [acoust_spike, relaxed_spike, electronic_spike, sad_spike]\n",
    "variables = ['analysis_sample_rate', 'bit_rate', 'codec', 'downmix', 'equal_loudness', 'length', 'lossless',\n",
    "            'replay_gain', 'essentia_high', 'extractor_high', 'gaia_high', 'essentia_low', 'essentia_git_sha_low',\n",
    "            'essentia_build_sha_low', 'extractor_low']\n",
    "\n",
    "# Dataframe to save results\n",
    "res = pd.DataFrame(columns=spike_names, index=variables)\n",
    "\n",
    "# For each spike, for each variable, compute JSD between peak and baseline\n",
    "for i in range(0, len(spikes_list)):\n",
    "    # a contains all submissions that fall within the bounds of the spike\n",
    "    a = spikes_list[i]\n",
    "        \n",
    "    # b contains all submissions that are NOT within the bounds of the spike, i.e. (full dataset)-(spike)\n",
    "    #idx_diff = list(set(acousticbrainz.index).difference(set(a.index)))\n",
    "    #b = acousticbrainz.loc[idx_diff]\n",
    "    \n",
    "    b = baseline\n",
    "    \n",
    "    for var in variables:\n",
    "\n",
    "        # Calculate distance\n",
    "        dist = get_shannondist(a[var].value_counts(), b[var].value_counts())\n",
    "\n",
    "        # Set distance in the result dataframe\n",
    "        res.loc[var][spike_names[i]] = dist\n",
    "\n",
    "res = res.loc[~(res==0).all(axis=1)]\n",
    "res.sort_values(by='acoust_spike')"
   ]
  },
  {
   "cell_type": "code",
   "execution_count": 11,
   "metadata": {},
   "outputs": [
    {
     "name": "stdout",
     "output_type": "stream",
     "text": [
      "\\begin{tabular}{lllll}\n",
      "\\toprule\n",
      "{} & acoust\\_spike & relaxed\\_spike & electronic\\_spike &  sad\\_spike \\\\\n",
      "\\midrule\n",
      "bit\\_rate               &     0.418759 &      0.322867 &          0.39447 &   0.166321 \\\\\n",
      "codec                  &     0.339619 &       0.26285 &         0.322216 &  0.0569593 \\\\\n",
      "downmix                &  0.000893558 &   0.000526145 &      0.000697558 &          0 \\\\\n",
      "length                 &     0.145746 &      0.150273 &         0.148331 &    0.31763 \\\\\n",
      "lossless               &     0.281495 &       0.21319 &         0.265893 &  0.0166514 \\\\\n",
      "essentia\\_low           &     0.609062 &      0.521436 &         0.594767 &   0.145326 \\\\\n",
      "essentia\\_git\\_sha\\_low   &     0.672409 &      0.584972 &         0.660398 &    0.23105 \\\\\n",
      "essentia\\_build\\_sha\\_low &      0.70419 &      0.615245 &         0.692346 &   0.239792 \\\\\n",
      "\\bottomrule\n",
      "\\end{tabular}\n",
      "\n"
     ]
    }
   ],
   "source": [
    "print(res.to_latex())"
   ]
  },
  {
   "cell_type": "code",
   "execution_count": 12,
   "metadata": {},
   "outputs": [
    {
     "name": "stdout",
     "output_type": "stream",
     "text": [
      "Average across all peaks:\n"
     ]
    },
    {
     "data": {
      "text/plain": [
       "downmix                   0.000529\n",
       "length                    0.190495\n",
       "lossless                  0.194307\n",
       "codec                     0.245411\n",
       "bit_rate                  0.325604\n",
       "essentia_low              0.467648\n",
       "essentia_git_sha_low      0.537207\n",
       "essentia_build_sha_low    0.562893\n",
       "dtype: float64"
      ]
     },
     "execution_count": 12,
     "metadata": {},
     "output_type": "execute_result"
    }
   ],
   "source": [
    "print('Average across all peaks:')\n",
    "res.mean(axis=1).sort_values()"
   ]
  },
  {
   "cell_type": "markdown",
   "metadata": {},
   "source": [
    "# Genre sanity check"
   ]
  },
  {
   "cell_type": "code",
   "execution_count": 13,
   "metadata": {
    "scrolled": false
   },
   "outputs": [
    {
     "name": "stdout",
     "output_type": "stream",
     "text": [
      "Intersection three genre datasets and acousticbrainz:\n"
     ]
    },
    {
     "data": {
      "image/png": "[encoded data removed]",
      "text/plain": [
       "<Figure size 576x576 with 1 Axes>"
      ]
     },
     "metadata": {},
     "output_type": "display_data"
    },
    {
     "name": "stdout",
     "output_type": "stream",
     "text": [
      "Amount of recordings (MBIDs): 164826\n",
      "Amount of submissions: 402279\n"
     ]
    }
   ],
   "source": [
    "# We only look at the main genre present in the genre dataset (i.e. rock, pop, classical etc... no subgenres)\n",
    "genre_cols = ['recordingmbid', 'genre1']\n",
    "\n",
    "# We have three 'ground truth sources' for genre: discogs, lastfm and tagtraum\n",
    "discogs = pd.read_csv(Path.cwd() / 'datasets' / 'acousticbrainz_genres' / 'acousticbrainz-mediaeval2017-discogs-train.tsv',\n",
    "                     sep='\\t', usecols=genre_cols)\n",
    "lastfm = pd.read_csv(Path.cwd() / 'datasets' / 'acousticbrainz_genres' / 'acousticbrainz-mediaeval2017-lastfm-train.tsv', \n",
    "                     sep='\\t', usecols=genre_cols)\n",
    "tagtraum = pd.read_csv(Path.cwd() / 'datasets' / 'acousticbrainz_genres' / 'acousticbrainz-mediaeval2017-tagtraum-train.tsv', \n",
    "                     sep='\\t', usecols=genre_cols)\n",
    "\n",
    "# Check which MBIDs are contained in all three datasets\n",
    "discogs_ids = set(discogs['recordingmbid'])\n",
    "lastfm_ids = set(lastfm['recordingmbid'])\n",
    "tagtraum_ids = set(tagtraum['recordingmbid'])\n",
    "genre_ids = discogs_ids.intersection(lastfm_ids, tagtraum_ids)\n",
    "\n",
    "# Only look at acousticbrainz data for which a genre is available in all three genre datasets\n",
    "genre_filtered = acousticbrainz[acousticbrainz.index.get_level_values(0).isin(list(genre_ids), level=0)]\n",
    "\n",
    "# Check distribution\n",
    "# Make the plot\n",
    "print(\"Intersection three genre datasets and acousticbrainz:\")\n",
    "plot_distribution(genre_filtered, toSelect, labels, 125000)\n",
    "\n",
    "# Size stats\n",
    "print(f\"Amount of recordings (MBIDs): {len(list(genre_filtered.index.get_level_values(0).unique()))}\")\n",
    "print(f\"Amount of submissions: {len(genre_filtered)}\")"
   ]
  },
  {
   "cell_type": "code",
   "execution_count": 14,
   "metadata": {},
   "outputs": [
    {
     "data": {
      "text/html": [
       "<div>\n",
       "<style scoped>\n",
       "    .dataframe tbody tr th:only-of-type {\n",
       "        vertical-align: middle;\n",
       "    }\n",
       "\n",
       "    .dataframe tbody tr th {\n",
       "        vertical-align: top;\n",
       "    }\n",
       "\n",
       "    .dataframe thead th {\n",
       "        text-align: right;\n",
       "    }\n",
       "</style>\n",
       "<table border=\"1\" class=\"dataframe\">\n",
       "  <thead>\n",
       "    <tr style=\"text-align: right;\">\n",
       "      <th></th>\n",
       "      <th>mbid</th>\n",
       "      <th>discogs</th>\n",
       "      <th>lastfm</th>\n",
       "      <th>tagtraum</th>\n",
       "    </tr>\n",
       "  </thead>\n",
       "  <tbody>\n",
       "    <tr>\n",
       "      <th>0</th>\n",
       "      <td>8eed6eed-24e7-4ac9-98dd-2e20502c1b13</td>\n",
       "      <td>rock</td>\n",
       "      <td>rock</td>\n",
       "      <td>rock/pop</td>\n",
       "    </tr>\n",
       "    <tr>\n",
       "      <th>1</th>\n",
       "      <td>a05966c4-aaf8-4508-ba23-3193b5067fc0</td>\n",
       "      <td>electronic</td>\n",
       "      <td>reggae</td>\n",
       "      <td>electronic</td>\n",
       "    </tr>\n",
       "    <tr>\n",
       "      <th>2</th>\n",
       "      <td>1a00a335-fead-46ec-8d4f-06e8341291ea</td>\n",
       "      <td>electronic</td>\n",
       "      <td>electronic</td>\n",
       "      <td>dance</td>\n",
       "    </tr>\n",
       "    <tr>\n",
       "      <th>4</th>\n",
       "      <td>1f5cc450-7ed3-4329-9f47-2a97b8cbd58a</td>\n",
       "      <td>electronic</td>\n",
       "      <td>jazz</td>\n",
       "      <td>electronic</td>\n",
       "    </tr>\n",
       "    <tr>\n",
       "      <th>6</th>\n",
       "      <td>fd081a38-5bb3-43aa-94c5-d50743ec23cf</td>\n",
       "      <td>rock</td>\n",
       "      <td>rock</td>\n",
       "      <td>rock/pop</td>\n",
       "    </tr>\n",
       "    <tr>\n",
       "      <th>...</th>\n",
       "      <td>...</td>\n",
       "      <td>...</td>\n",
       "      <td>...</td>\n",
       "      <td>...</td>\n",
       "    </tr>\n",
       "    <tr>\n",
       "      <th>255850</th>\n",
       "      <td>185cb993-4a79-4cad-bf5c-d6a4a2b3778f</td>\n",
       "      <td>rock</td>\n",
       "      <td>metal</td>\n",
       "      <td>rock/pop</td>\n",
       "    </tr>\n",
       "    <tr>\n",
       "      <th>255851</th>\n",
       "      <td>02e1860b-f550-41ec-ba12-1f679329c439</td>\n",
       "      <td>rock</td>\n",
       "      <td>rock</td>\n",
       "      <td>rock/pop</td>\n",
       "    </tr>\n",
       "    <tr>\n",
       "      <th>255852</th>\n",
       "      <td>492848a7-249c-4dfc-93e3-621a7b1e1043</td>\n",
       "      <td>folk, world, &amp; country</td>\n",
       "      <td>folk</td>\n",
       "      <td>comedy</td>\n",
       "    </tr>\n",
       "    <tr>\n",
       "      <th>255853</th>\n",
       "      <td>bb84e699-d478-4fe7-af18-9aa73a839ff7</td>\n",
       "      <td>rock</td>\n",
       "      <td>rock</td>\n",
       "      <td>rock/pop</td>\n",
       "    </tr>\n",
       "    <tr>\n",
       "      <th>255855</th>\n",
       "      <td>51bd1fb0-88fc-45de-84b0-5a3aa1aa2f29</td>\n",
       "      <td>rock</td>\n",
       "      <td>rock</td>\n",
       "      <td>rock/pop</td>\n",
       "    </tr>\n",
       "  </tbody>\n",
       "</table>\n",
       "<p>164826 rows × 4 columns</p>\n",
       "</div>"
      ],
      "text/plain": [
       "                                        mbid                 discogs  \\\n",
       "0       8eed6eed-24e7-4ac9-98dd-2e20502c1b13                    rock   \n",
       "1       a05966c4-aaf8-4508-ba23-3193b5067fc0              electronic   \n",
       "2       1a00a335-fead-46ec-8d4f-06e8341291ea              electronic   \n",
       "4       1f5cc450-7ed3-4329-9f47-2a97b8cbd58a              electronic   \n",
       "6       fd081a38-5bb3-43aa-94c5-d50743ec23cf                    rock   \n",
       "...                                      ...                     ...   \n",
       "255850  185cb993-4a79-4cad-bf5c-d6a4a2b3778f                    rock   \n",
       "255851  02e1860b-f550-41ec-ba12-1f679329c439                    rock   \n",
       "255852  492848a7-249c-4dfc-93e3-621a7b1e1043  folk, world, & country   \n",
       "255853  bb84e699-d478-4fe7-af18-9aa73a839ff7                    rock   \n",
       "255855  51bd1fb0-88fc-45de-84b0-5a3aa1aa2f29                    rock   \n",
       "\n",
       "            lastfm    tagtraum  \n",
       "0             rock    rock/pop  \n",
       "1           reggae  electronic  \n",
       "2       electronic       dance  \n",
       "4             jazz  electronic  \n",
       "6             rock    rock/pop  \n",
       "...            ...         ...  \n",
       "255850       metal    rock/pop  \n",
       "255851        rock    rock/pop  \n",
       "255852        folk      comedy  \n",
       "255853        rock    rock/pop  \n",
       "255855        rock    rock/pop  \n",
       "\n",
       "[164826 rows x 4 columns]"
      ]
     },
     "execution_count": 14,
     "metadata": {},
     "output_type": "execute_result"
    }
   ],
   "source": [
    "# Merge the three genre sets\n",
    "discogs.columns = ['mbid', 'discogs']\n",
    "lastfm.columns = ['mbid', 'lastfm']\n",
    "tagtraum.columns = ['mbid', 'tagtraum']\n",
    "discogs.set_index('mbid')\n",
    "lastfm.set_index('mbid')\n",
    "tagtraum.set_index('mbid')\n",
    "\n",
    "genre_data = discogs.merge(lastfm).merge(tagtraum)\n",
    "genre_data = genre_data[genre_data['mbid'].isin(acousticbrainz.index.get_level_values(0))]\n",
    "\n",
    "genre_data"
   ]
  },
  {
   "cell_type": "code",
   "execution_count": 15,
   "metadata": {},
   "outputs": [
    {
     "name": "stdout",
     "output_type": "stream",
     "text": [
      "Intersection three genre datasets and acousticbrainz, baseline:\n"
     ]
    },
    {
     "data": {
      "image/png": "[encoded data removed]",
      "text/plain": [
       "<Figure size 576x576 with 1 Axes>"
      ]
     },
     "metadata": {},
     "output_type": "display_data"
    },
    {
     "name": "stdout",
     "output_type": "stream",
     "text": [
      "Amount of recordings (MBIDs): 128687\n",
      "Amount of submissions: 267394\n"
     ]
    }
   ],
   "source": [
    "# Construct baseline (acousticbrainz data for which all three genres are available that does NOT fall in any of the three peaks)\n",
    "genre_baseline = genre_filtered[genre_filtered.index.isin(list(nonspike_ids))]\n",
    "\n",
    "# Make sure peaks are filtered out\n",
    "# Make the plot\n",
    "print(\"Intersection three genre datasets and acousticbrainz, baseline:\")\n",
    "plot_distribution(genre_baseline, toSelect, labels, 40000)\n",
    "\n",
    "# Size stats\n",
    "print(f\"Amount of recordings (MBIDs): {len(list(genre_baseline.index.get_level_values(0).unique()))}\")\n",
    "print(f\"Amount of submissions: {len(genre_baseline)}\")\n",
    "    "
   ]
  },
  {
   "cell_type": "code",
   "execution_count": 16,
   "metadata": {},
   "outputs": [],
   "source": [
    "# Three peaks now also only contain data for which three genre labels were available\n",
    "genre_acoust_spike = acoust_spike[acoust_spike.index.get_level_values(0).isin(list(genre_ids))]\n",
    "genre_relaxed_spike = relaxed_spike[relaxed_spike.index.get_level_values(0).isin(list(genre_ids))]\n",
    "genre_electronic_spike = electronic_spike[electronic_spike.index.get_level_values(0).isin(list(genre_ids))]\n",
    "genre_sad_spike = sad_spike[sad_spike.index.get_level_values(0).isin(list(genre_ids))]"
   ]
  },
  {
   "cell_type": "code",
   "execution_count": 17,
   "metadata": {},
   "outputs": [
    {
     "data": {
      "text/html": [
       "<div>\n",
       "<style scoped>\n",
       "    .dataframe tbody tr th:only-of-type {\n",
       "        vertical-align: middle;\n",
       "    }\n",
       "\n",
       "    .dataframe tbody tr th {\n",
       "        vertical-align: top;\n",
       "    }\n",
       "\n",
       "    .dataframe thead th {\n",
       "        text-align: right;\n",
       "    }\n",
       "</style>\n",
       "<table border=\"1\" class=\"dataframe\">\n",
       "  <thead>\n",
       "    <tr style=\"text-align: right;\">\n",
       "      <th></th>\n",
       "      <th>#recordings</th>\n",
       "    </tr>\n",
       "  </thead>\n",
       "  <tbody>\n",
       "    <tr>\n",
       "      <th>genre_acoust_spike</th>\n",
       "      <td>60261</td>\n",
       "    </tr>\n",
       "    <tr>\n",
       "      <th>genre_relaxed_spike</th>\n",
       "      <td>72739</td>\n",
       "    </tr>\n",
       "    <tr>\n",
       "      <th>genre_electronic_spike</th>\n",
       "      <td>64944</td>\n",
       "    </tr>\n",
       "    <tr>\n",
       "      <th>genre_sad_spike</th>\n",
       "      <td>8854</td>\n",
       "    </tr>\n",
       "  </tbody>\n",
       "</table>\n",
       "</div>"
      ],
      "text/plain": [
       "                        #recordings\n",
       "genre_acoust_spike            60261\n",
       "genre_relaxed_spike           72739\n",
       "genre_electronic_spike        64944\n",
       "genre_sad_spike                8854"
      ]
     },
     "execution_count": 17,
     "metadata": {},
     "output_type": "execute_result"
    }
   ],
   "source": [
    "genre_spike_names = ['genre_acoust_spike', 'genre_relaxed_spike', 'genre_electronic_spike', 'genre_sad_spike']\n",
    "genre_spikes = [genre_acoust_spike, genre_relaxed_spike, genre_electronic_spike, genre_sad_spike]\n",
    "\n",
    "recordingsizes = pd.DataFrame(\n",
    "    [len(genre_acoust_spike.index.get_level_values(0).unique()),\n",
    "    len(genre_relaxed_spike.index.get_level_values(0).unique()),\n",
    "    len(genre_electronic_spike.index.get_level_values(0).unique()),\n",
    "    len(genre_sad_spike.index.get_level_values(0).unique())],\n",
    "    index=genre_spike_names, columns=['#recordings']\n",
    ")\n",
    "\n",
    "# Spikes still contain submissions, multiple submissions for mbid might fall in different spikes but since we only have \n",
    "# genre ground truth at the mbid level, we look at which mbids fall in the peak (might be several)\n",
    "recordingsizes"
   ]
  },
  {
   "cell_type": "code",
   "execution_count": 18,
   "metadata": {},
   "outputs": [
    {
     "data": {
      "text/html": [
       "<div>\n",
       "<style scoped>\n",
       "    .dataframe tbody tr th:only-of-type {\n",
       "        vertical-align: middle;\n",
       "    }\n",
       "\n",
       "    .dataframe tbody tr th {\n",
       "        vertical-align: top;\n",
       "    }\n",
       "\n",
       "    .dataframe thead th {\n",
       "        text-align: right;\n",
       "    }\n",
       "</style>\n",
       "<table border=\"1\" class=\"dataframe\">\n",
       "  <thead>\n",
       "    <tr style=\"text-align: right;\">\n",
       "      <th></th>\n",
       "      <th>discogs</th>\n",
       "      <th>lastfm</th>\n",
       "      <th>tagtraum</th>\n",
       "    </tr>\n",
       "  </thead>\n",
       "  <tbody>\n",
       "    <tr>\n",
       "      <th>genre_acoust_spike</th>\n",
       "      <td>0.121217</td>\n",
       "      <td>0.141714</td>\n",
       "      <td>0.138084</td>\n",
       "    </tr>\n",
       "    <tr>\n",
       "      <th>genre_relaxed_spike</th>\n",
       "      <td>0.0943394</td>\n",
       "      <td>0.116578</td>\n",
       "      <td>0.114325</td>\n",
       "    </tr>\n",
       "    <tr>\n",
       "      <th>genre_electronic_spike</th>\n",
       "      <td>0.112098</td>\n",
       "      <td>0.134499</td>\n",
       "      <td>0.130844</td>\n",
       "    </tr>\n",
       "    <tr>\n",
       "      <th>genre_sad_spike</th>\n",
       "      <td>0.108356</td>\n",
       "      <td>0.144426</td>\n",
       "      <td>0.135816</td>\n",
       "    </tr>\n",
       "  </tbody>\n",
       "</table>\n",
       "</div>"
      ],
      "text/plain": [
       "                          discogs    lastfm  tagtraum\n",
       "genre_acoust_spike       0.121217  0.141714  0.138084\n",
       "genre_relaxed_spike     0.0943394  0.116578  0.114325\n",
       "genre_electronic_spike   0.112098  0.134499  0.130844\n",
       "genre_sad_spike          0.108356  0.144426  0.135816"
      ]
     },
     "execution_count": 18,
     "metadata": {},
     "output_type": "execute_result"
    }
   ],
   "source": [
    "# Now we can calculate JSD against the baseline for the genres\n",
    "sources = ['discogs', 'lastfm', 'tagtraum']\n",
    "\n",
    "# genre data for baseline\n",
    "baseline_genre_data = genre_data[genre_data['mbid'].isin(genre_baseline.index.get_level_values(0).unique())]\n",
    "\n",
    "# Resulting dataframe\n",
    "genre_jsd_res = pd.DataFrame(columns=sources, index=genre_spike_names)\n",
    "\n",
    "for i in range(0, len(genre_spikes)):\n",
    "    # Which mbids are in this spike?\n",
    "    spike_mbids = genre_spikes[i].index.get_level_values(0).unique()\n",
    "    \n",
    "    # Fetch genre data for these mbids\n",
    "    spike_genre_data = genre_data[genre_data['mbid'].isin(spike_mbids)]\n",
    "    \n",
    "    # Check all three sources\n",
    "    for source in sources:\n",
    "        dist = get_shannondist(spike_genre_data[source].value_counts(), baseline_genre_data[source].value_counts())\n",
    "        genre_jsd_res.loc[genre_spike_names[i]][source] = dist\n",
    "        \n",
    "genre_jsd_res"
   ]
  }
 ],
 "metadata": {
  "kernelspec": {
   "display_name": "Python 3",
   "language": "python",
   "name": "python3"
  },
  "language_info": {
   "codemirror_mode": {
    "name": "ipython",
    "version": 3
   },
   "file_extension": ".py",
   "mimetype": "text/x-python",
   "name": "python",
   "nbconvert_exporter": "python",
   "pygments_lexer": "ipython3",
   "version": "3.7.4"
  }
 },
 "nbformat": 4,
 "nbformat_minor": 4
}
