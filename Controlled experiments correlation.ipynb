{
 "cells": [
  {
   "cell_type": "code",
   "execution_count": 1,
   "metadata": {},
   "outputs": [
    {
     "data": {
      "application/vnd.jupyter.widget-view+json": {
       "model_id": "1d9fe7c6332f42e9946b197500bed63e",
       "version_major": 2,
       "version_minor": 0
      },
      "text/plain": [
       "HBox(children=(FloatProgress(value=1.0, bar_style='info', max=1.0), HTML(value='')))"
      ]
     },
     "metadata": {},
     "output_type": "display_data"
    },
    {
     "name": "stderr",
     "output_type": "stream",
     "text": [
      "C:\\Users\\Chris\\Miniconda3\\envs\\thesis2\\lib\\site-packages\\tqdm\\std.py:668: FutureWarning: The Panel class is removed from pandas. Accessing it from the top-level namespace will also be removed in the next version\n",
      "  from pandas import Panel\n"
     ]
    },
    {
     "name": "stdout",
     "output_type": "stream",
     "text": [
      "\n"
     ]
    }
   ],
   "source": [
    "from pathlib import Path\n",
    "import pandas as pd\n",
    "import matplotlib.pyplot as plt\n",
    "import seaborn as sns\n",
    "import math\n",
    "import numpy as np\n",
    "# Use seaborn style defaults and set the default figure size\n",
    "sns.set(rc={'figure.figsize':(15, 15)})\n",
    "\n",
    "from tqdm.notebook import tqdm\n",
    "tqdm().pandas()\n",
    "\n",
    "from scipy.stats import ttest_rel\n",
    "\n",
    "acousticbrainz = pd.read_hdf(Path.cwd() / 'datasets' / 'acousticbrainzV3.h5')\n",
    "spotify = pd.read_hdf(Path.cwd() / 'datasets' / 'spotify.h5')\n",
    "mapping = pd.read_hdf(Path.cwd() / 'datasets' / 'mapping.h5')\n",
    "\n",
    "def findpairs(merged, bitrate, codecs):\n",
    "    # Resulting dataframes\n",
    "    res = {}\n",
    "    for codec in codecs:\n",
    "        res[codec] = []\n",
    "    \n",
    "    # Filter on bitrate\n",
    "    filtered = merged[merged['bit_rate'] == bitrate]\n",
    "    \n",
    "    # Within this bitrate, try to find pairs of the same MBID with different codecs\n",
    "    \n",
    "    # Must have at least two submissions\n",
    "    grouped = filtered.groupby('mbid').filter(lambda x: len(x) > 1)\n",
    "    \n",
    "    for name, group in tqdm(grouped.groupby('mbid')):\n",
    "        for i in range(0, len(group)-1):\n",
    "            if group.iloc[i]['codec'] in codecs:\n",
    "                codec_a = group.iloc[i]['codec']\n",
    "                \n",
    "                for j in range(i+1, len(group)):\n",
    "                    if group.iloc[j]['codec'] in codecs:\n",
    "                        codec_b = group.iloc[j]['codec']\n",
    "                        \n",
    "                        # Pair found!\n",
    "                        if codec_a != codec_b:\n",
    "                            res[codec_a].append(group.iloc[i])\n",
    "                            res[codec_b].append(group.iloc[j])\n",
    "    \n",
    "    return res\n",
    "\n",
    "def significancetest(series_a, series_b, col_1, col_2):\n",
    "    assert(len(series_a) == len(series_b))\n",
    "    \n",
    "    a = []\n",
    "    b = []\n",
    "    \n",
    "    for i in range(0, len(series_a)):\n",
    "        a.append(abs(series_a[i][col_1] - series_a[i][col_2]))\n",
    "        b.append(abs(series_b[i][col_1] - series_b[i][col_2]))\n",
    "    \n",
    "    statistic, p = ttest_rel(a, b)\n",
    "    return (np.mean(a), np.mean(b), statistic, p)\n",
    "                        \n",
    "                        \n",
    "            "
   ]
  },
  {
   "cell_type": "code",
   "execution_count": 2,
   "metadata": {},
   "outputs": [],
   "source": [
    "acousticbrainz['mbid'] = acousticbrainz.index.get_level_values(0)\n",
    "merged = acousticbrainz.merge(mapping, on='mbid').merge(spotify, left_on='spotify', right_on='id')"
   ]
  },
  {
   "cell_type": "code",
   "execution_count": 3,
   "metadata": {
    "scrolled": true
   },
   "outputs": [
    {
     "data": {
      "application/vnd.jupyter.widget-view+json": {
       "model_id": "aa3cb63a13a14fea86d14e9040021752",
       "version_major": 2,
       "version_minor": 0
      },
      "text/plain": [
       "HBox(children=(FloatProgress(value=0.0, max=1197.0), HTML(value='')))"
      ]
     },
     "metadata": {},
     "output_type": "display_data"
    },
    {
     "name": "stdout",
     "output_type": "stream",
     "text": [
      "\n"
     ]
    },
    {
     "data": {
      "application/vnd.jupyter.widget-view+json": {
       "model_id": "4d6199f4cd0b4c2a93ac72619f2416ad",
       "version_major": 2,
       "version_minor": 0
      },
      "text/plain": [
       "HBox(children=(FloatProgress(value=0.0, max=5842.0), HTML(value='')))"
      ]
     },
     "metadata": {},
     "output_type": "display_data"
    },
    {
     "name": "stdout",
     "output_type": "stream",
     "text": [
      "\n"
     ]
    },
    {
     "data": {
      "application/vnd.jupyter.widget-view+json": {
       "model_id": "d7cd4e655dfb433a89d17c1d552e61e9",
       "version_major": 2,
       "version_minor": 0
      },
      "text/plain": [
       "HBox(children=(FloatProgress(value=0.0, max=682.0), HTML(value='')))"
      ]
     },
     "metadata": {},
     "output_type": "display_data"
    },
    {
     "name": "stdout",
     "output_type": "stream",
     "text": [
      "\n"
     ]
    },
    {
     "data": {
      "application/vnd.jupyter.widget-view+json": {
       "model_id": "9c083314ee4b41dc8e1eaa12bd5a6d9c",
       "version_major": 2,
       "version_minor": 0
      },
      "text/plain": [
       "HBox(children=(FloatProgress(value=0.0, max=4211.0), HTML(value='')))"
      ]
     },
     "metadata": {},
     "output_type": "display_data"
    },
    {
     "name": "stdout",
     "output_type": "stream",
     "text": [
      "\n"
     ]
    }
   ],
   "source": [
    "onesixty = findpairs(merged, 160000, ['mp3', 'vorbis'])\n",
    "oneninetytwo = findpairs(merged, 192000, ['mp3', 'vorbis'])\n",
    "twofiftysix = findpairs(merged, 256000, ['mp3', 'vorbis'])\n",
    "threetwenty = findpairs(merged, 320000, ['mp3', 'vorbis'])"
   ]
  },
  {
   "cell_type": "code",
   "execution_count": 4,
   "metadata": {
    "scrolled": false
   },
   "outputs": [],
   "source": [
    "dfs = [\n",
    "    onesixty,\n",
    "    oneninetytwo,\n",
    "    twofiftysix,\n",
    "    threetwenty\n",
    "]\n",
    "\n",
    "samplesizes = {\n",
    "    160000: len(onesixty['mp3']),\n",
    "    192000: len(oneninetytwo['mp3']),\n",
    "    256000: len(twofiftysix['mp3']),\n",
    "    320000: len(threetwenty['mp3'])\n",
    "}\n",
    "\n",
    "cols = [\n",
    "    ('acousticness', ('mood_acoustic', 'acoustic')),\n",
    "    ('danceability', ('danceability', 'danceable')),\n",
    "    ('energy', ('mood_relaxed', 'not_relaxed')),\n",
    "    ('instrumentalness', ('voice_instrumental', 'instrumental')),\n",
    "    ('valence', ('mood_happy', 'happy')),\n",
    "    ('valence', ('mood_sad', 'not_sad'))\n",
    "]\n",
    "\n",
    "res_all = {}\n",
    "\n",
    "for rate in [160000, 192000, 256000, 320000]:\n",
    "    res_all[rate] = pd.DataFrame()\n",
    "\n",
    "for df in dfs:\n",
    "    res = pd.DataFrame()\n",
    "    \n",
    "    codec_a = list(df.keys())[0]\n",
    "    codec_b = list(df.keys())[1]\n",
    "    bitrate = df[list(df.keys())[0]][0]['bit_rate']\n",
    "    \n",
    "    for col in cols:\n",
    "        ttest = significancetest(df[codec_a], df[codec_b], col[0], col[1])\n",
    "        toadd = pd.Series(data=[ttest[0], ttest[1], ttest[2], ttest[3]], name=col)\n",
    "        res = res.append(toadd)\n",
    "    \n",
    "    res.columns = pd.MultiIndex.from_tuples([('MAE', codec_a), ('MAE', codec_b), ('t',''), ('p','')])\n",
    "    res_all[bitrate] = res"
   ]
  },
  {
   "cell_type": "code",
   "execution_count": 6,
   "metadata": {
    "scrolled": false
   },
   "outputs": [
    {
     "name": "stdout",
     "output_type": "stream",
     "text": [
      "Bitrate: 160000, n=19\n"
     ]
    },
    {
     "data": {
      "text/html": [
       "<div>\n",
       "<style scoped>\n",
       "    .dataframe tbody tr th:only-of-type {\n",
       "        vertical-align: middle;\n",
       "    }\n",
       "\n",
       "    .dataframe tbody tr th {\n",
       "        vertical-align: top;\n",
       "    }\n",
       "\n",
       "    .dataframe thead tr th {\n",
       "        text-align: left;\n",
       "    }\n",
       "</style>\n",
       "<table border=\"1\" class=\"dataframe\">\n",
       "  <thead>\n",
       "    <tr>\n",
       "      <th></th>\n",
       "      <th colspan=\"2\" halign=\"left\">MAE</th>\n",
       "      <th>t</th>\n",
       "      <th>p</th>\n",
       "    </tr>\n",
       "    <tr>\n",
       "      <th></th>\n",
       "      <th>mp3</th>\n",
       "      <th>vorbis</th>\n",
       "      <th></th>\n",
       "      <th></th>\n",
       "    </tr>\n",
       "  </thead>\n",
       "  <tbody>\n",
       "    <tr>\n",
       "      <th>(acousticness, (mood_acoustic, acoustic))</th>\n",
       "      <td>0.215574</td>\n",
       "      <td>0.192192</td>\n",
       "      <td>0.231516</td>\n",
       "      <td>0.819526</td>\n",
       "    </tr>\n",
       "    <tr>\n",
       "      <th>(danceability, (danceability, danceable))</th>\n",
       "      <td>0.439985</td>\n",
       "      <td>0.326822</td>\n",
       "      <td>3.110071</td>\n",
       "      <td>0.006045</td>\n",
       "    </tr>\n",
       "    <tr>\n",
       "      <th>(energy, (mood_relaxed, not_relaxed))</th>\n",
       "      <td>0.286043</td>\n",
       "      <td>0.286476</td>\n",
       "      <td>-0.007000</td>\n",
       "      <td>0.994492</td>\n",
       "    </tr>\n",
       "    <tr>\n",
       "      <th>(instrumentalness, (voice_instrumental, instrumental))</th>\n",
       "      <td>0.600029</td>\n",
       "      <td>0.474101</td>\n",
       "      <td>0.986925</td>\n",
       "      <td>0.336761</td>\n",
       "    </tr>\n",
       "    <tr>\n",
       "      <th>(valence, (mood_happy, happy))</th>\n",
       "      <td>0.202633</td>\n",
       "      <td>0.356557</td>\n",
       "      <td>-1.910047</td>\n",
       "      <td>0.072193</td>\n",
       "    </tr>\n",
       "    <tr>\n",
       "      <th>(valence, (mood_sad, not_sad))</th>\n",
       "      <td>0.377937</td>\n",
       "      <td>0.388755</td>\n",
       "      <td>-0.171376</td>\n",
       "      <td>0.865840</td>\n",
       "    </tr>\n",
       "  </tbody>\n",
       "</table>\n",
       "</div>"
      ],
      "text/plain": [
       "                                                         MAE            \\\n",
       "                                                         mp3    vorbis   \n",
       "(acousticness, (mood_acoustic, acoustic))           0.215574  0.192192   \n",
       "(danceability, (danceability, danceable))           0.439985  0.326822   \n",
       "(energy, (mood_relaxed, not_relaxed))               0.286043  0.286476   \n",
       "(instrumentalness, (voice_instrumental, instrum...  0.600029  0.474101   \n",
       "(valence, (mood_happy, happy))                      0.202633  0.356557   \n",
       "(valence, (mood_sad, not_sad))                      0.377937  0.388755   \n",
       "\n",
       "                                                           t         p  \n",
       "                                                                        \n",
       "(acousticness, (mood_acoustic, acoustic))           0.231516  0.819526  \n",
       "(danceability, (danceability, danceable))           3.110071  0.006045  \n",
       "(energy, (mood_relaxed, not_relaxed))              -0.007000  0.994492  \n",
       "(instrumentalness, (voice_instrumental, instrum...  0.986925  0.336761  \n",
       "(valence, (mood_happy, happy))                     -1.910047  0.072193  \n",
       "(valence, (mood_sad, not_sad))                     -0.171376  0.865840  "
      ]
     },
     "metadata": {},
     "output_type": "display_data"
    },
    {
     "name": "stdout",
     "output_type": "stream",
     "text": [
      "\\begin{tabular}{lrrrr}\n",
      "\\toprule\n",
      "{} & \\multicolumn{2}{l}{MAE} &         t &         p \\\\\n",
      "{} &       mp3 & \\multicolumn{3}{l}{vorbis} \\\\\n",
      "\\midrule\n",
      "(acousticness, (mood\\_acoustic, acoustic))          &  0.215574 &  0.192192 &  0.231516 &  0.819526 \\\\\n",
      "(danceability, (danceability, danceable))          &  0.439985 &  0.326822 &  3.110071 &  0.006045 \\\\\n",
      "(energy, (mood\\_relaxed, not\\_relaxed))              &  0.286043 &  0.286476 & -0.007000 &  0.994492 \\\\\n",
      "(instrumentalness, (voice\\_instrumental, instrum... &  0.600029 &  0.474101 &  0.986925 &  0.336761 \\\\\n",
      "(valence, (mood\\_happy, happy))                     &  0.202633 &  0.356557 & -1.910047 &  0.072193 \\\\\n",
      "(valence, (mood\\_sad, not\\_sad))                     &  0.377937 &  0.388755 & -0.171376 &  0.865840 \\\\\n",
      "\\bottomrule\n",
      "\\end{tabular}\n",
      "\n",
      "Bitrate: 192000, n=299\n"
     ]
    },
    {
     "data": {
      "text/html": [
       "<div>\n",
       "<style scoped>\n",
       "    .dataframe tbody tr th:only-of-type {\n",
       "        vertical-align: middle;\n",
       "    }\n",
       "\n",
       "    .dataframe tbody tr th {\n",
       "        vertical-align: top;\n",
       "    }\n",
       "\n",
       "    .dataframe thead tr th {\n",
       "        text-align: left;\n",
       "    }\n",
       "</style>\n",
       "<table border=\"1\" class=\"dataframe\">\n",
       "  <thead>\n",
       "    <tr>\n",
       "      <th></th>\n",
       "      <th colspan=\"2\" halign=\"left\">MAE</th>\n",
       "      <th>t</th>\n",
       "      <th>p</th>\n",
       "    </tr>\n",
       "    <tr>\n",
       "      <th></th>\n",
       "      <th>mp3</th>\n",
       "      <th>vorbis</th>\n",
       "      <th></th>\n",
       "      <th></th>\n",
       "    </tr>\n",
       "  </thead>\n",
       "  <tbody>\n",
       "    <tr>\n",
       "      <th>(acousticness, (mood_acoustic, acoustic))</th>\n",
       "      <td>0.172869</td>\n",
       "      <td>0.193616</td>\n",
       "      <td>-2.143873</td>\n",
       "      <td>0.032852</td>\n",
       "    </tr>\n",
       "    <tr>\n",
       "      <th>(danceability, (danceability, danceable))</th>\n",
       "      <td>0.459768</td>\n",
       "      <td>0.526277</td>\n",
       "      <td>-4.713185</td>\n",
       "      <td>0.000004</td>\n",
       "    </tr>\n",
       "    <tr>\n",
       "      <th>(energy, (mood_relaxed, not_relaxed))</th>\n",
       "      <td>0.411277</td>\n",
       "      <td>0.463551</td>\n",
       "      <td>-3.617660</td>\n",
       "      <td>0.000349</td>\n",
       "    </tr>\n",
       "    <tr>\n",
       "      <th>(instrumentalness, (voice_instrumental, instrumental))</th>\n",
       "      <td>0.578092</td>\n",
       "      <td>0.587861</td>\n",
       "      <td>-0.441484</td>\n",
       "      <td>0.659183</td>\n",
       "    </tr>\n",
       "    <tr>\n",
       "      <th>(valence, (mood_happy, happy))</th>\n",
       "      <td>0.369526</td>\n",
       "      <td>0.398368</td>\n",
       "      <td>-2.418134</td>\n",
       "      <td>0.016200</td>\n",
       "    </tr>\n",
       "    <tr>\n",
       "      <th>(valence, (mood_sad, not_sad))</th>\n",
       "      <td>0.278248</td>\n",
       "      <td>0.256190</td>\n",
       "      <td>2.281263</td>\n",
       "      <td>0.023238</td>\n",
       "    </tr>\n",
       "  </tbody>\n",
       "</table>\n",
       "</div>"
      ],
      "text/plain": [
       "                                                         MAE            \\\n",
       "                                                         mp3    vorbis   \n",
       "(acousticness, (mood_acoustic, acoustic))           0.172869  0.193616   \n",
       "(danceability, (danceability, danceable))           0.459768  0.526277   \n",
       "(energy, (mood_relaxed, not_relaxed))               0.411277  0.463551   \n",
       "(instrumentalness, (voice_instrumental, instrum...  0.578092  0.587861   \n",
       "(valence, (mood_happy, happy))                      0.369526  0.398368   \n",
       "(valence, (mood_sad, not_sad))                      0.278248  0.256190   \n",
       "\n",
       "                                                           t         p  \n",
       "                                                                        \n",
       "(acousticness, (mood_acoustic, acoustic))          -2.143873  0.032852  \n",
       "(danceability, (danceability, danceable))          -4.713185  0.000004  \n",
       "(energy, (mood_relaxed, not_relaxed))              -3.617660  0.000349  \n",
       "(instrumentalness, (voice_instrumental, instrum... -0.441484  0.659183  \n",
       "(valence, (mood_happy, happy))                     -2.418134  0.016200  \n",
       "(valence, (mood_sad, not_sad))                      2.281263  0.023238  "
      ]
     },
     "metadata": {},
     "output_type": "display_data"
    },
    {
     "name": "stdout",
     "output_type": "stream",
     "text": [
      "\\begin{tabular}{lrrrr}\n",
      "\\toprule\n",
      "{} & \\multicolumn{2}{l}{MAE} &         t &         p \\\\\n",
      "{} &       mp3 & \\multicolumn{3}{l}{vorbis} \\\\\n",
      "\\midrule\n",
      "(acousticness, (mood\\_acoustic, acoustic))          &  0.172869 &  0.193616 & -2.143873 &  0.032852 \\\\\n",
      "(danceability, (danceability, danceable))          &  0.459768 &  0.526277 & -4.713185 &  0.000004 \\\\\n",
      "(energy, (mood\\_relaxed, not\\_relaxed))              &  0.411277 &  0.463551 & -3.617660 &  0.000349 \\\\\n",
      "(instrumentalness, (voice\\_instrumental, instrum... &  0.578092 &  0.587861 & -0.441484 &  0.659183 \\\\\n",
      "(valence, (mood\\_happy, happy))                     &  0.369526 &  0.398368 & -2.418134 &  0.016200 \\\\\n",
      "(valence, (mood\\_sad, not\\_sad))                     &  0.278248 &  0.256190 &  2.281263 &  0.023238 \\\\\n",
      "\\bottomrule\n",
      "\\end{tabular}\n",
      "\n",
      "Bitrate: 256000, n=74\n"
     ]
    },
    {
     "data": {
      "text/html": [
       "<div>\n",
       "<style scoped>\n",
       "    .dataframe tbody tr th:only-of-type {\n",
       "        vertical-align: middle;\n",
       "    }\n",
       "\n",
       "    .dataframe tbody tr th {\n",
       "        vertical-align: top;\n",
       "    }\n",
       "\n",
       "    .dataframe thead tr th {\n",
       "        text-align: left;\n",
       "    }\n",
       "</style>\n",
       "<table border=\"1\" class=\"dataframe\">\n",
       "  <thead>\n",
       "    <tr>\n",
       "      <th></th>\n",
       "      <th colspan=\"2\" halign=\"left\">MAE</th>\n",
       "      <th>t</th>\n",
       "      <th>p</th>\n",
       "    </tr>\n",
       "    <tr>\n",
       "      <th></th>\n",
       "      <th>mp3</th>\n",
       "      <th>vorbis</th>\n",
       "      <th></th>\n",
       "      <th></th>\n",
       "    </tr>\n",
       "  </thead>\n",
       "  <tbody>\n",
       "    <tr>\n",
       "      <th>(acousticness, (mood_acoustic, acoustic))</th>\n",
       "      <td>0.180786</td>\n",
       "      <td>0.177941</td>\n",
       "      <td>0.129520</td>\n",
       "      <td>0.897302</td>\n",
       "    </tr>\n",
       "    <tr>\n",
       "      <th>(danceability, (danceability, danceable))</th>\n",
       "      <td>0.326517</td>\n",
       "      <td>0.331549</td>\n",
       "      <td>-0.346482</td>\n",
       "      <td>0.729977</td>\n",
       "    </tr>\n",
       "    <tr>\n",
       "      <th>(energy, (mood_relaxed, not_relaxed))</th>\n",
       "      <td>0.238797</td>\n",
       "      <td>0.240557</td>\n",
       "      <td>-0.118638</td>\n",
       "      <td>0.905888</td>\n",
       "    </tr>\n",
       "    <tr>\n",
       "      <th>(instrumentalness, (voice_instrumental, instrumental))</th>\n",
       "      <td>0.346797</td>\n",
       "      <td>0.313191</td>\n",
       "      <td>1.095717</td>\n",
       "      <td>0.276804</td>\n",
       "    </tr>\n",
       "    <tr>\n",
       "      <th>(valence, (mood_happy, happy))</th>\n",
       "      <td>0.245510</td>\n",
       "      <td>0.235400</td>\n",
       "      <td>0.550763</td>\n",
       "      <td>0.583478</td>\n",
       "    </tr>\n",
       "    <tr>\n",
       "      <th>(valence, (mood_sad, not_sad))</th>\n",
       "      <td>0.372572</td>\n",
       "      <td>0.376357</td>\n",
       "      <td>-0.202600</td>\n",
       "      <td>0.840012</td>\n",
       "    </tr>\n",
       "  </tbody>\n",
       "</table>\n",
       "</div>"
      ],
      "text/plain": [
       "                                                         MAE            \\\n",
       "                                                         mp3    vorbis   \n",
       "(acousticness, (mood_acoustic, acoustic))           0.180786  0.177941   \n",
       "(danceability, (danceability, danceable))           0.326517  0.331549   \n",
       "(energy, (mood_relaxed, not_relaxed))               0.238797  0.240557   \n",
       "(instrumentalness, (voice_instrumental, instrum...  0.346797  0.313191   \n",
       "(valence, (mood_happy, happy))                      0.245510  0.235400   \n",
       "(valence, (mood_sad, not_sad))                      0.372572  0.376357   \n",
       "\n",
       "                                                           t         p  \n",
       "                                                                        \n",
       "(acousticness, (mood_acoustic, acoustic))           0.129520  0.897302  \n",
       "(danceability, (danceability, danceable))          -0.346482  0.729977  \n",
       "(energy, (mood_relaxed, not_relaxed))              -0.118638  0.905888  \n",
       "(instrumentalness, (voice_instrumental, instrum...  1.095717  0.276804  \n",
       "(valence, (mood_happy, happy))                      0.550763  0.583478  \n",
       "(valence, (mood_sad, not_sad))                     -0.202600  0.840012  "
      ]
     },
     "metadata": {},
     "output_type": "display_data"
    },
    {
     "name": "stdout",
     "output_type": "stream",
     "text": [
      "\\begin{tabular}{lrrrr}\n",
      "\\toprule\n",
      "{} & \\multicolumn{2}{l}{MAE} &         t &         p \\\\\n",
      "{} &       mp3 & \\multicolumn{3}{l}{vorbis} \\\\\n",
      "\\midrule\n",
      "(acousticness, (mood\\_acoustic, acoustic))          &  0.180786 &  0.177941 &  0.129520 &  0.897302 \\\\\n",
      "(danceability, (danceability, danceable))          &  0.326517 &  0.331549 & -0.346482 &  0.729977 \\\\\n",
      "(energy, (mood\\_relaxed, not\\_relaxed))              &  0.238797 &  0.240557 & -0.118638 &  0.905888 \\\\\n",
      "(instrumentalness, (voice\\_instrumental, instrum... &  0.346797 &  0.313191 &  1.095717 &  0.276804 \\\\\n",
      "(valence, (mood\\_happy, happy))                     &  0.245510 &  0.235400 &  0.550763 &  0.583478 \\\\\n",
      "(valence, (mood\\_sad, not\\_sad))                     &  0.372572 &  0.376357 & -0.202600 &  0.840012 \\\\\n",
      "\\bottomrule\n",
      "\\end{tabular}\n",
      "\n",
      "Bitrate: 320000, n=1203\n"
     ]
    },
    {
     "data": {
      "text/html": [
       "<div>\n",
       "<style scoped>\n",
       "    .dataframe tbody tr th:only-of-type {\n",
       "        vertical-align: middle;\n",
       "    }\n",
       "\n",
       "    .dataframe tbody tr th {\n",
       "        vertical-align: top;\n",
       "    }\n",
       "\n",
       "    .dataframe thead tr th {\n",
       "        text-align: left;\n",
       "    }\n",
       "</style>\n",
       "<table border=\"1\" class=\"dataframe\">\n",
       "  <thead>\n",
       "    <tr>\n",
       "      <th></th>\n",
       "      <th colspan=\"2\" halign=\"left\">MAE</th>\n",
       "      <th>t</th>\n",
       "      <th>p</th>\n",
       "    </tr>\n",
       "    <tr>\n",
       "      <th></th>\n",
       "      <th>mp3</th>\n",
       "      <th>vorbis</th>\n",
       "      <th></th>\n",
       "      <th></th>\n",
       "    </tr>\n",
       "  </thead>\n",
       "  <tbody>\n",
       "    <tr>\n",
       "      <th>(acousticness, (mood_acoustic, acoustic))</th>\n",
       "      <td>0.161619</td>\n",
       "      <td>0.125306</td>\n",
       "      <td>6.333075</td>\n",
       "      <td>3.388418e-10</td>\n",
       "    </tr>\n",
       "    <tr>\n",
       "      <th>(danceability, (danceability, danceable))</th>\n",
       "      <td>0.439657</td>\n",
       "      <td>0.306358</td>\n",
       "      <td>19.978805</td>\n",
       "      <td>6.621738e-77</td>\n",
       "    </tr>\n",
       "    <tr>\n",
       "      <th>(energy, (mood_relaxed, not_relaxed))</th>\n",
       "      <td>0.424091</td>\n",
       "      <td>0.270790</td>\n",
       "      <td>18.942335</td>\n",
       "      <td>3.153612e-70</td>\n",
       "    </tr>\n",
       "    <tr>\n",
       "      <th>(instrumentalness, (voice_instrumental, instrumental))</th>\n",
       "      <td>0.551969</td>\n",
       "      <td>0.294039</td>\n",
       "      <td>21.173780</td>\n",
       "      <td>8.065342e-85</td>\n",
       "    </tr>\n",
       "    <tr>\n",
       "      <th>(valence, (mood_happy, happy))</th>\n",
       "      <td>0.307287</td>\n",
       "      <td>0.283616</td>\n",
       "      <td>3.819138</td>\n",
       "      <td>1.407557e-04</td>\n",
       "    </tr>\n",
       "    <tr>\n",
       "      <th>(valence, (mood_sad, not_sad))</th>\n",
       "      <td>0.353860</td>\n",
       "      <td>0.320952</td>\n",
       "      <td>6.202881</td>\n",
       "      <td>7.612269e-10</td>\n",
       "    </tr>\n",
       "  </tbody>\n",
       "</table>\n",
       "</div>"
      ],
      "text/plain": [
       "                                                         MAE            \\\n",
       "                                                         mp3    vorbis   \n",
       "(acousticness, (mood_acoustic, acoustic))           0.161619  0.125306   \n",
       "(danceability, (danceability, danceable))           0.439657  0.306358   \n",
       "(energy, (mood_relaxed, not_relaxed))               0.424091  0.270790   \n",
       "(instrumentalness, (voice_instrumental, instrum...  0.551969  0.294039   \n",
       "(valence, (mood_happy, happy))                      0.307287  0.283616   \n",
       "(valence, (mood_sad, not_sad))                      0.353860  0.320952   \n",
       "\n",
       "                                                            t             p  \n",
       "                                                                             \n",
       "(acousticness, (mood_acoustic, acoustic))            6.333075  3.388418e-10  \n",
       "(danceability, (danceability, danceable))           19.978805  6.621738e-77  \n",
       "(energy, (mood_relaxed, not_relaxed))               18.942335  3.153612e-70  \n",
       "(instrumentalness, (voice_instrumental, instrum...  21.173780  8.065342e-85  \n",
       "(valence, (mood_happy, happy))                       3.819138  1.407557e-04  \n",
       "(valence, (mood_sad, not_sad))                       6.202881  7.612269e-10  "
      ]
     },
     "metadata": {},
     "output_type": "display_data"
    },
    {
     "name": "stdout",
     "output_type": "stream",
     "text": [
      "\\begin{tabular}{lrrrr}\n",
      "\\toprule\n",
      "{} & \\multicolumn{2}{l}{MAE} &          t &             p \\\\\n",
      "{} &       mp3 & \\multicolumn{3}{l}{vorbis} \\\\\n",
      "\\midrule\n",
      "(acousticness, (mood\\_acoustic, acoustic))          &  0.161619 &  0.125306 &   6.333075 &  3.388418e-10 \\\\\n",
      "(danceability, (danceability, danceable))          &  0.439657 &  0.306358 &  19.978805 &  6.621738e-77 \\\\\n",
      "(energy, (mood\\_relaxed, not\\_relaxed))              &  0.424091 &  0.270790 &  18.942335 &  3.153612e-70 \\\\\n",
      "(instrumentalness, (voice\\_instrumental, instrum... &  0.551969 &  0.294039 &  21.173780 &  8.065342e-85 \\\\\n",
      "(valence, (mood\\_happy, happy))                     &  0.307287 &  0.283616 &   3.819138 &  1.407557e-04 \\\\\n",
      "(valence, (mood\\_sad, not\\_sad))                     &  0.353860 &  0.320952 &   6.202881 &  7.612269e-10 \\\\\n",
      "\\bottomrule\n",
      "\\end{tabular}\n",
      "\n"
     ]
    }
   ],
   "source": [
    "for key, value in res_all.items():\n",
    "    print(f\"Bitrate: {key}, n={samplesizes[key]}\")\n",
    "    display(value)\n",
    "    print(value.to_latex())"
   ]
  }
 ],
 "metadata": {
  "kernelspec": {
   "display_name": "Python 3",
   "language": "python",
   "name": "python3"
  },
  "language_info": {
   "codemirror_mode": {
    "name": "ipython",
    "version": 3
   },
   "file_extension": ".py",
   "mimetype": "text/x-python",
   "name": "python",
   "nbconvert_exporter": "python",
   "pygments_lexer": "ipython3",
   "version": "3.7.4"
  }
 },
 "nbformat": 4,
 "nbformat_minor": 4
}
