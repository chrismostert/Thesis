{
 "cells": [
  {
   "cell_type": "code",
   "execution_count": 3,
   "metadata": {},
   "outputs": [
    {
     "data": {
      "application/vnd.jupyter.widget-view+json": {
       "model_id": "a341b12c11c9433f8a8649f867db05d7",
       "version_major": 2,
       "version_minor": 0
      },
      "text/plain": [
       "HBox(children=(FloatProgress(value=1.0, bar_style='info', max=1.0), HTML(value='')))"
      ]
     },
     "metadata": {},
     "output_type": "display_data"
    },
    {
     "name": "stderr",
     "output_type": "stream",
     "text": [
      "C:\\Users\\Chris\\Miniconda3\\envs\\thesis2\\lib\\site-packages\\tqdm\\std.py:668: FutureWarning: The Panel class is removed from pandas. Accessing it from the top-level namespace will also be removed in the next version\n",
      "  from pandas import Panel\n"
     ]
    },
    {
     "name": "stdout",
     "output_type": "stream",
     "text": [
      "\n"
     ]
    }
   ],
   "source": [
    "from pathlib import Path\n",
    "import pandas as pd\n",
    "import matplotlib.pyplot as plt\n",
    "import seaborn as sns\n",
    "import math\n",
    "import numpy as np\n",
    "# Use seaborn style defaults and set the default figure size\n",
    "sns.set(rc={'figure.figsize':(15, 15)})\n",
    "\n",
    "from tqdm.notebook import tqdm\n",
    "tqdm().pandas()\n",
    "\n",
    "\n",
    "# Load in the acousticbrainz dataset into the variable 'acousticbrainz'\n",
    "acousticbrainz = pd.read_hdf(Path.cwd() / 'datasets' / 'acousticbrainzV3.h5')\n",
    "\n",
    "acousticbrainz['mbid'] = acousticbrainz.index.get_level_values(0)\n",
    "\n",
    "# Metadata to consider\n",
    "variables = ['analysis_sample_rate', 'bit_rate', 'codec', 'downmix', 'equal_loudness', 'length', 'lossless',\n",
    "            'replay_gain', 'essentia_high', 'extractor_high', 'gaia_high', 'essentia_low', 'essentia_git_sha_low',\n",
    "            'essentia_build_sha_low', 'extractor_low']"
   ]
  },
  {
   "cell_type": "code",
   "execution_count": 4,
   "metadata": {},
   "outputs": [],
   "source": [
    "# Spike in acousticness at 0.09 - 0.10\n",
    "acoust_spike = acousticbrainz[acousticbrainz[('mood_acoustic', 'acoustic')].between(0.09, 0.10, inclusive=True)]\n",
    "\n",
    "# Spike in mood relaxed at 0.805 - 0.815\n",
    "relaxed_spike = acousticbrainz[acousticbrainz[('mood_relaxed', 'relaxed')].between(0.805, 0.815, inclusive=True)]\n",
    "\n",
    "# Spike in mood electronic at 0.972 - 0.982\n",
    "electronic_spike = acousticbrainz[acousticbrainz[('mood_electronic', 'electronic')].between(0.972, 0.982, inclusive=True)]\n",
    "\n",
    "# Small spike in sad at 0.346 - 0.362\n",
    "sad_spike = acousticbrainz[acousticbrainz[('mood_sad', 'sad')].between(0.346, 0.362, inclusive=True)]\n",
    "\n",
    "# Baseline contains all submission not in either of the three spikes\n",
    "spike_ids = set(acoust_spike.index).union(relaxed_spike.index, electronic_spike.index, sad_spike.index)\n",
    "nonspike_ids = set(acousticbrainz.index).difference(spike_ids)\n",
    "baseline = acousticbrainz.loc[list(nonspike_ids)]"
   ]
  },
  {
   "cell_type": "markdown",
   "metadata": {},
   "source": [
    "Since we will be training the decision trees in R (externally), we simply wish to export the data with the label 'anomaly' or 'non-anomaly'"
   ]
  },
  {
   "cell_type": "code",
   "execution_count": 21,
   "metadata": {
    "scrolled": false
   },
   "outputs": [],
   "source": [
    "spike_names = ['acoust_spike', 'relaxed_spike', 'electronic_spike', 'sad_spike']\n",
    "spikes = [acoust_spike, relaxed_spike, electronic_spike, sad_spike]\n",
    "baseline['label'] = 'non-anomaly'\n",
    "\n",
    "for i in range(0, len(spikes)):\n",
    "    spike_data = spikes[i][variables].copy(deep=True)\n",
    "    spike_data['label'] = 'anomaly'\n",
    "    \n",
    "    out = spike_data.append(baseline[variables + ['label']])\n",
    "    out = out.reset_index(drop=True)\n",
    "    out.to_csv(spike_names[i] + '.csv', index=False)"
   ]
  }
 ],
 "metadata": {
  "kernelspec": {
   "display_name": "Python 3",
   "language": "python",
   "name": "python3"
  },
  "language_info": {
   "codemirror_mode": {
    "name": "ipython",
    "version": 3
   },
   "file_extension": ".py",
   "mimetype": "text/x-python",
   "name": "python",
   "nbconvert_exporter": "python",
   "pygments_lexer": "ipython3",
   "version": "3.7.4"
  }
 },
 "nbformat": 4,
 "nbformat_minor": 4
}
